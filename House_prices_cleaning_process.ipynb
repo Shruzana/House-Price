{
 "cells": [
  {
   "cell_type": "code",
   "execution_count": 310,
   "id": "e1d303cd-7d1d-4bb3-b032-42bbf59a8981",
   "metadata": {},
   "outputs": [
    {
     "data": {
      "text/html": [
       "<div>\n",
       "<style scoped>\n",
       "    .dataframe tbody tr th:only-of-type {\n",
       "        vertical-align: middle;\n",
       "    }\n",
       "\n",
       "    .dataframe tbody tr th {\n",
       "        vertical-align: top;\n",
       "    }\n",
       "\n",
       "    .dataframe thead th {\n",
       "        text-align: right;\n",
       "    }\n",
       "</style>\n",
       "<table border=\"1\" class=\"dataframe\">\n",
       "  <thead>\n",
       "    <tr style=\"text-align: right;\">\n",
       "      <th></th>\n",
       "      <th>Index</th>\n",
       "      <th>Title</th>\n",
       "      <th>Description</th>\n",
       "      <th>Amount(in rupees)</th>\n",
       "      <th>Price (in rupees)</th>\n",
       "      <th>location</th>\n",
       "      <th>Carpet Area</th>\n",
       "      <th>Status</th>\n",
       "      <th>Floor</th>\n",
       "      <th>Transaction</th>\n",
       "      <th>...</th>\n",
       "      <th>facing</th>\n",
       "      <th>overlooking</th>\n",
       "      <th>Society</th>\n",
       "      <th>Bathroom</th>\n",
       "      <th>Balcony</th>\n",
       "      <th>Car Parking</th>\n",
       "      <th>Ownership</th>\n",
       "      <th>Super Area</th>\n",
       "      <th>Dimensions</th>\n",
       "      <th>Plot Area</th>\n",
       "    </tr>\n",
       "  </thead>\n",
       "  <tbody>\n",
       "    <tr>\n",
       "      <th>0</th>\n",
       "      <td>0</td>\n",
       "      <td>1 BHK Ready to Occupy Flat for sale in Srushti...</td>\n",
       "      <td>Bhiwandi, Thane has an attractive 1 BHK Flat f...</td>\n",
       "      <td>42 Lac</td>\n",
       "      <td>6000.0</td>\n",
       "      <td>thane</td>\n",
       "      <td>500 sqft</td>\n",
       "      <td>Ready to Move</td>\n",
       "      <td>10 out of 11</td>\n",
       "      <td>Resale</td>\n",
       "      <td>...</td>\n",
       "      <td>NaN</td>\n",
       "      <td>NaN</td>\n",
       "      <td>Srushti Siddhi Mangal Murti Complex</td>\n",
       "      <td>1</td>\n",
       "      <td>2</td>\n",
       "      <td>NaN</td>\n",
       "      <td>NaN</td>\n",
       "      <td>NaN</td>\n",
       "      <td>NaN</td>\n",
       "      <td>NaN</td>\n",
       "    </tr>\n",
       "    <tr>\n",
       "      <th>1</th>\n",
       "      <td>1</td>\n",
       "      <td>2 BHK Ready to Occupy Flat for sale in Dosti V...</td>\n",
       "      <td>One can find this stunning 2 BHK flat for sale...</td>\n",
       "      <td>98 Lac</td>\n",
       "      <td>13799.0</td>\n",
       "      <td>thane</td>\n",
       "      <td>473 sqft</td>\n",
       "      <td>Ready to Move</td>\n",
       "      <td>3 out of 22</td>\n",
       "      <td>Resale</td>\n",
       "      <td>...</td>\n",
       "      <td>East</td>\n",
       "      <td>Garden/Park</td>\n",
       "      <td>Dosti Vihar</td>\n",
       "      <td>2</td>\n",
       "      <td>NaN</td>\n",
       "      <td>1 Open</td>\n",
       "      <td>Freehold</td>\n",
       "      <td>NaN</td>\n",
       "      <td>NaN</td>\n",
       "      <td>NaN</td>\n",
       "    </tr>\n",
       "    <tr>\n",
       "      <th>2</th>\n",
       "      <td>2</td>\n",
       "      <td>2 BHK Ready to Occupy Flat for sale in Sunrise...</td>\n",
       "      <td>Up for immediate sale is a 2 BHK apartment in ...</td>\n",
       "      <td>1.40 Cr</td>\n",
       "      <td>17500.0</td>\n",
       "      <td>thane</td>\n",
       "      <td>779 sqft</td>\n",
       "      <td>Ready to Move</td>\n",
       "      <td>10 out of 29</td>\n",
       "      <td>Resale</td>\n",
       "      <td>...</td>\n",
       "      <td>East</td>\n",
       "      <td>Garden/Park</td>\n",
       "      <td>Sunrise by Kalpataru</td>\n",
       "      <td>2</td>\n",
       "      <td>NaN</td>\n",
       "      <td>1 Covered</td>\n",
       "      <td>Freehold</td>\n",
       "      <td>NaN</td>\n",
       "      <td>NaN</td>\n",
       "      <td>NaN</td>\n",
       "    </tr>\n",
       "    <tr>\n",
       "      <th>3</th>\n",
       "      <td>3</td>\n",
       "      <td>1 BHK Ready to Occupy Flat for sale Kasheli</td>\n",
       "      <td>This beautiful 1 BHK Flat is available for sal...</td>\n",
       "      <td>25 Lac</td>\n",
       "      <td>NaN</td>\n",
       "      <td>thane</td>\n",
       "      <td>530 sqft</td>\n",
       "      <td>Ready to Move</td>\n",
       "      <td>1 out of 3</td>\n",
       "      <td>Resale</td>\n",
       "      <td>...</td>\n",
       "      <td>NaN</td>\n",
       "      <td>NaN</td>\n",
       "      <td>NaN</td>\n",
       "      <td>1</td>\n",
       "      <td>1</td>\n",
       "      <td>NaN</td>\n",
       "      <td>NaN</td>\n",
       "      <td>NaN</td>\n",
       "      <td>NaN</td>\n",
       "      <td>NaN</td>\n",
       "    </tr>\n",
       "    <tr>\n",
       "      <th>4</th>\n",
       "      <td>4</td>\n",
       "      <td>2 BHK Ready to Occupy Flat for sale in TenX Ha...</td>\n",
       "      <td>This lovely 2 BHK Flat in Pokhran Road, Thane ...</td>\n",
       "      <td>1.60 Cr</td>\n",
       "      <td>18824.0</td>\n",
       "      <td>thane</td>\n",
       "      <td>635 sqft</td>\n",
       "      <td>Ready to Move</td>\n",
       "      <td>20 out of 42</td>\n",
       "      <td>Resale</td>\n",
       "      <td>...</td>\n",
       "      <td>West</td>\n",
       "      <td>Garden/Park, Main Road</td>\n",
       "      <td>TenX Habitat Raymond Realty</td>\n",
       "      <td>2</td>\n",
       "      <td>NaN</td>\n",
       "      <td>1 Covered</td>\n",
       "      <td>Co-operative Society</td>\n",
       "      <td>NaN</td>\n",
       "      <td>NaN</td>\n",
       "      <td>NaN</td>\n",
       "    </tr>\n",
       "  </tbody>\n",
       "</table>\n",
       "<p>5 rows × 21 columns</p>\n",
       "</div>"
      ],
      "text/plain": [
       "   Index                                              Title  \\\n",
       "0      0  1 BHK Ready to Occupy Flat for sale in Srushti...   \n",
       "1      1  2 BHK Ready to Occupy Flat for sale in Dosti V...   \n",
       "2      2  2 BHK Ready to Occupy Flat for sale in Sunrise...   \n",
       "3      3        1 BHK Ready to Occupy Flat for sale Kasheli   \n",
       "4      4  2 BHK Ready to Occupy Flat for sale in TenX Ha...   \n",
       "\n",
       "                                         Description Amount(in rupees)  \\\n",
       "0  Bhiwandi, Thane has an attractive 1 BHK Flat f...           42 Lac    \n",
       "1  One can find this stunning 2 BHK flat for sale...           98 Lac    \n",
       "2  Up for immediate sale is a 2 BHK apartment in ...          1.40 Cr    \n",
       "3  This beautiful 1 BHK Flat is available for sal...           25 Lac    \n",
       "4  This lovely 2 BHK Flat in Pokhran Road, Thane ...          1.60 Cr    \n",
       "\n",
       "   Price (in rupees) location Carpet Area         Status         Floor  \\\n",
       "0             6000.0    thane    500 sqft  Ready to Move  10 out of 11   \n",
       "1            13799.0    thane    473 sqft  Ready to Move   3 out of 22   \n",
       "2            17500.0    thane    779 sqft  Ready to Move  10 out of 29   \n",
       "3                NaN    thane    530 sqft  Ready to Move    1 out of 3   \n",
       "4            18824.0    thane    635 sqft  Ready to Move  20 out of 42   \n",
       "\n",
       "  Transaction  ... facing             overlooking  \\\n",
       "0      Resale  ...    NaN                     NaN   \n",
       "1      Resale  ...   East             Garden/Park   \n",
       "2      Resale  ...   East             Garden/Park   \n",
       "3      Resale  ...    NaN                     NaN   \n",
       "4      Resale  ...   West  Garden/Park, Main Road   \n",
       "\n",
       "                               Society Bathroom Balcony Car Parking  \\\n",
       "0  Srushti Siddhi Mangal Murti Complex        1       2         NaN   \n",
       "1                          Dosti Vihar        2     NaN      1 Open   \n",
       "2                 Sunrise by Kalpataru        2     NaN   1 Covered   \n",
       "3                                  NaN        1       1         NaN   \n",
       "4          TenX Habitat Raymond Realty        2     NaN   1 Covered   \n",
       "\n",
       "              Ownership Super Area Dimensions  Plot Area  \n",
       "0                   NaN        NaN        NaN        NaN  \n",
       "1              Freehold        NaN        NaN        NaN  \n",
       "2              Freehold        NaN        NaN        NaN  \n",
       "3                   NaN        NaN        NaN        NaN  \n",
       "4  Co-operative Society        NaN        NaN        NaN  \n",
       "\n",
       "[5 rows x 21 columns]"
      ]
     },
     "execution_count": 310,
     "metadata": {},
     "output_type": "execute_result"
    }
   ],
   "source": [
    "import pandas as pd\n",
    "import seaborn as sns\n",
    "h = pd.read_csv(\"C://Users//DELL//Downloads//house_prices.csv//house_prices.csv\")\n",
    "h.head()"
   ]
  },
  {
   "cell_type": "code",
   "execution_count": 311,
   "id": "d7d7a2bd-0ebd-457f-bfb6-aa51f091d6f2",
   "metadata": {},
   "outputs": [
    {
     "name": "stdout",
     "output_type": "stream",
     "text": [
      "<class 'pandas.core.frame.DataFrame'>\n",
      "RangeIndex: 187531 entries, 0 to 187530\n",
      "Data columns (total 21 columns):\n",
      " #   Column             Non-Null Count   Dtype  \n",
      "---  ------             --------------   -----  \n",
      " 0   Index              187531 non-null  int64  \n",
      " 1   Title              187531 non-null  object \n",
      " 2   Description        184508 non-null  object \n",
      " 3   Amount(in rupees)  187531 non-null  object \n",
      " 4   Price (in rupees)  169866 non-null  float64\n",
      " 5   location           187531 non-null  object \n",
      " 6   Carpet Area        106858 non-null  object \n",
      " 7   Status             186916 non-null  object \n",
      " 8   Floor              180454 non-null  object \n",
      " 9   Transaction        187448 non-null  object \n",
      " 10  Furnishing         184634 non-null  object \n",
      " 11  facing             117298 non-null  object \n",
      " 12  overlooking        106095 non-null  object \n",
      " 13  Society            77853 non-null   object \n",
      " 14  Bathroom           186703 non-null  object \n",
      " 15  Balcony            138596 non-null  object \n",
      " 16  Car Parking        84174 non-null   object \n",
      " 17  Ownership          122014 non-null  object \n",
      " 18  Super Area         79846 non-null   object \n",
      " 19  Dimensions         0 non-null       float64\n",
      " 20  Plot Area          0 non-null       float64\n",
      "dtypes: float64(3), int64(1), object(17)\n",
      "memory usage: 30.0+ MB\n"
     ]
    }
   ],
   "source": [
    "h.info()"
   ]
  },
  {
   "cell_type": "code",
   "execution_count": 312,
   "id": "bd3add01-06f4-4e85-bf7c-7a905bca784a",
   "metadata": {},
   "outputs": [
    {
     "data": {
      "text/html": [
       "<div>\n",
       "<style scoped>\n",
       "    .dataframe tbody tr th:only-of-type {\n",
       "        vertical-align: middle;\n",
       "    }\n",
       "\n",
       "    .dataframe tbody tr th {\n",
       "        vertical-align: top;\n",
       "    }\n",
       "\n",
       "    .dataframe thead th {\n",
       "        text-align: right;\n",
       "    }\n",
       "</style>\n",
       "<table border=\"1\" class=\"dataframe\">\n",
       "  <thead>\n",
       "    <tr style=\"text-align: right;\">\n",
       "      <th></th>\n",
       "      <th>Index</th>\n",
       "      <th>Price (in rupees)</th>\n",
       "      <th>Dimensions</th>\n",
       "      <th>Plot Area</th>\n",
       "    </tr>\n",
       "  </thead>\n",
       "  <tbody>\n",
       "    <tr>\n",
       "      <th>count</th>\n",
       "      <td>187531.000000</td>\n",
       "      <td>1.698660e+05</td>\n",
       "      <td>0.0</td>\n",
       "      <td>0.0</td>\n",
       "    </tr>\n",
       "    <tr>\n",
       "      <th>mean</th>\n",
       "      <td>93765.000000</td>\n",
       "      <td>7.583772e+03</td>\n",
       "      <td>NaN</td>\n",
       "      <td>NaN</td>\n",
       "    </tr>\n",
       "    <tr>\n",
       "      <th>std</th>\n",
       "      <td>54135.681003</td>\n",
       "      <td>2.724171e+04</td>\n",
       "      <td>NaN</td>\n",
       "      <td>NaN</td>\n",
       "    </tr>\n",
       "    <tr>\n",
       "      <th>min</th>\n",
       "      <td>0.000000</td>\n",
       "      <td>0.000000e+00</td>\n",
       "      <td>NaN</td>\n",
       "      <td>NaN</td>\n",
       "    </tr>\n",
       "    <tr>\n",
       "      <th>25%</th>\n",
       "      <td>46882.500000</td>\n",
       "      <td>4.297000e+03</td>\n",
       "      <td>NaN</td>\n",
       "      <td>NaN</td>\n",
       "    </tr>\n",
       "    <tr>\n",
       "      <th>50%</th>\n",
       "      <td>93765.000000</td>\n",
       "      <td>6.034000e+03</td>\n",
       "      <td>NaN</td>\n",
       "      <td>NaN</td>\n",
       "    </tr>\n",
       "    <tr>\n",
       "      <th>75%</th>\n",
       "      <td>140647.500000</td>\n",
       "      <td>9.450000e+03</td>\n",
       "      <td>NaN</td>\n",
       "      <td>NaN</td>\n",
       "    </tr>\n",
       "    <tr>\n",
       "      <th>max</th>\n",
       "      <td>187530.000000</td>\n",
       "      <td>6.700000e+06</td>\n",
       "      <td>NaN</td>\n",
       "      <td>NaN</td>\n",
       "    </tr>\n",
       "  </tbody>\n",
       "</table>\n",
       "</div>"
      ],
      "text/plain": [
       "               Index  Price (in rupees)  Dimensions  Plot Area\n",
       "count  187531.000000       1.698660e+05         0.0        0.0\n",
       "mean    93765.000000       7.583772e+03         NaN        NaN\n",
       "std     54135.681003       2.724171e+04         NaN        NaN\n",
       "min         0.000000       0.000000e+00         NaN        NaN\n",
       "25%     46882.500000       4.297000e+03         NaN        NaN\n",
       "50%     93765.000000       6.034000e+03         NaN        NaN\n",
       "75%    140647.500000       9.450000e+03         NaN        NaN\n",
       "max    187530.000000       6.700000e+06         NaN        NaN"
      ]
     },
     "execution_count": 312,
     "metadata": {},
     "output_type": "execute_result"
    }
   ],
   "source": [
    "h.describe()"
   ]
  },
  {
   "cell_type": "code",
   "execution_count": 313,
   "id": "2a63827a-e170-4a11-98cf-7d392077e35d",
   "metadata": {},
   "outputs": [
    {
     "data": {
      "text/plain": [
       "Index                     0\n",
       "Title                     0\n",
       "Description            3023\n",
       "Amount(in rupees)         0\n",
       "Price (in rupees)     17665\n",
       "location                  0\n",
       "Carpet Area           80673\n",
       "Status                  615\n",
       "Floor                  7077\n",
       "Transaction              83\n",
       "Furnishing             2897\n",
       "facing                70233\n",
       "overlooking           81436\n",
       "Society              109678\n",
       "Bathroom                828\n",
       "Balcony               48935\n",
       "Car Parking          103357\n",
       "Ownership             65517\n",
       "Super Area           107685\n",
       "Dimensions           187531\n",
       "Plot Area            187531\n",
       "dtype: int64"
      ]
     },
     "execution_count": 313,
     "metadata": {},
     "output_type": "execute_result"
    }
   ],
   "source": [
    "h.isnull().sum()"
   ]
  },
  {
   "cell_type": "code",
   "execution_count": 314,
   "id": "fc41560d-888c-4d69-aa37-2ee53ceffec9",
   "metadata": {},
   "outputs": [
    {
     "data": {
      "text/plain": [
       "Index                  0.000000\n",
       "Title                  0.000000\n",
       "Description            1.612000\n",
       "Amount(in rupees)      0.000000\n",
       "Price (in rupees)      9.419776\n",
       "location               0.000000\n",
       "Carpet Area           43.018488\n",
       "Status                 0.327946\n",
       "Floor                  3.773776\n",
       "Transaction            0.044259\n",
       "Furnishing             1.544811\n",
       "facing                37.451408\n",
       "overlooking           43.425354\n",
       "Society               58.485264\n",
       "Bathroom               0.441527\n",
       "Balcony               26.094352\n",
       "Car Parking           55.114621\n",
       "Ownership             34.936624\n",
       "Super Area            57.422506\n",
       "Dimensions           100.000000\n",
       "Plot Area            100.000000\n",
       "dtype: float64"
      ]
     },
     "execution_count": 314,
     "metadata": {},
     "output_type": "execute_result"
    }
   ],
   "source": [
    "h.isnull().sum()/len(h)*100"
   ]
  },
  {
   "cell_type": "code",
   "execution_count": 315,
   "id": "85f78007-c192-4642-84a9-d2fa2255558c",
   "metadata": {},
   "outputs": [],
   "source": [
    "h.drop(['Index','Description','Status','overlooking','Society','Car Parking','Ownership','Super Area','Dimensions','Plot Area'],axis=1,inplace=True)"
   ]
  },
  {
   "cell_type": "code",
   "execution_count": 316,
   "id": "2e803251-493a-4128-b8f4-542aaa04f4b5",
   "metadata": {},
   "outputs": [
    {
     "data": {
      "text/plain": [
       "Index(['Title', 'Amount(in rupees)', 'Price (in rupees)', 'location',\n",
       "       'Carpet Area', 'Floor', 'Transaction', 'Furnishing', 'facing',\n",
       "       'Bathroom', 'Balcony'],\n",
       "      dtype='object')"
      ]
     },
     "execution_count": 316,
     "metadata": {},
     "output_type": "execute_result"
    }
   ],
   "source": [
    "h.columns"
   ]
  },
  {
   "cell_type": "code",
   "execution_count": 317,
   "id": "0972a6bb-d1dd-4105-92a5-48fb629c4765",
   "metadata": {},
   "outputs": [],
   "source": [
    "import re\n",
    "\n",
    "# 1. Extract number of BHKs from Title\n",
    "def get_bhk(text):\n",
    "    match = re.search(r'(\\d+)\\s*bhk', str(text).lower())\n",
    "    if match:\n",
    "        return int(match.group(1))\n",
    "    return None\n",
    "\n",
    "h['Title'] = h['Title'].apply(get_bhk)\n",
    "\n",
    "# 2. Fill missing BHK values with median\n",
    "h['Title'].fillna(h['Title'].median(), inplace=True)\n",
    "\n",
    "# 3. Drop the original Title column\n",
    "# h.drop(columns=['Title'], inplace=True)"
   ]
  },
  {
   "cell_type": "code",
   "execution_count": 318,
   "id": "e24e19cc-c78e-4dd7-b988-8b7e6440e619",
   "metadata": {},
   "outputs": [
    {
     "data": {
      "text/plain": [
       "array(['42 Lac ', '98 Lac ', '1.40 Cr ', ..., '1.5 Lac ', '24.4 Lac ',\n",
       "       '9.90 Cr '], dtype=object)"
      ]
     },
     "execution_count": 318,
     "metadata": {},
     "output_type": "execute_result"
    }
   ],
   "source": [
    "h['Amount(in rupees)'].unique()"
   ]
  },
  {
   "cell_type": "code",
   "execution_count": 319,
   "id": "31e2c60d-ed2c-4ad2-aa90-463372b7504d",
   "metadata": {},
   "outputs": [],
   "source": [
    "def convert_amount(val):\n",
    "    val = val.strip()\n",
    "    if 'Lac' in val:\n",
    "        return float(val.replace('Lac', '').strip()) * 1e5\n",
    "    elif 'Cr' in val:\n",
    "        return float(val.replace('Cr', '').strip()) * 1e7\n",
    "    else:\n",
    "        return None"
   ]
  },
  {
   "cell_type": "code",
   "execution_count": 320,
   "id": "ab07e4d9-71f1-41e7-8925-0125be775562",
   "metadata": {},
   "outputs": [],
   "source": [
    "h['Amount(in rupees)'] = h['Amount(in rupees)'].apply(convert_amount)"
   ]
  },
  {
   "cell_type": "code",
   "execution_count": 321,
   "id": "19cd71f5-d656-4dcb-b094-99c7056f1822",
   "metadata": {},
   "outputs": [
    {
     "data": {
      "text/html": [
       "<div>\n",
       "<style scoped>\n",
       "    .dataframe tbody tr th:only-of-type {\n",
       "        vertical-align: middle;\n",
       "    }\n",
       "\n",
       "    .dataframe tbody tr th {\n",
       "        vertical-align: top;\n",
       "    }\n",
       "\n",
       "    .dataframe thead th {\n",
       "        text-align: right;\n",
       "    }\n",
       "</style>\n",
       "<table border=\"1\" class=\"dataframe\">\n",
       "  <thead>\n",
       "    <tr style=\"text-align: right;\">\n",
       "      <th></th>\n",
       "      <th>Title</th>\n",
       "      <th>Amount(in rupees)</th>\n",
       "      <th>Price (in rupees)</th>\n",
       "      <th>location</th>\n",
       "      <th>Carpet Area</th>\n",
       "      <th>Floor</th>\n",
       "      <th>Transaction</th>\n",
       "      <th>Furnishing</th>\n",
       "      <th>facing</th>\n",
       "      <th>Bathroom</th>\n",
       "      <th>Balcony</th>\n",
       "    </tr>\n",
       "  </thead>\n",
       "  <tbody>\n",
       "    <tr>\n",
       "      <th>0</th>\n",
       "      <td>1.0</td>\n",
       "      <td>4200000.0</td>\n",
       "      <td>6000.0</td>\n",
       "      <td>thane</td>\n",
       "      <td>500 sqft</td>\n",
       "      <td>10 out of 11</td>\n",
       "      <td>Resale</td>\n",
       "      <td>Unfurnished</td>\n",
       "      <td>NaN</td>\n",
       "      <td>1</td>\n",
       "      <td>2</td>\n",
       "    </tr>\n",
       "    <tr>\n",
       "      <th>1</th>\n",
       "      <td>2.0</td>\n",
       "      <td>9800000.0</td>\n",
       "      <td>13799.0</td>\n",
       "      <td>thane</td>\n",
       "      <td>473 sqft</td>\n",
       "      <td>3 out of 22</td>\n",
       "      <td>Resale</td>\n",
       "      <td>Semi-Furnished</td>\n",
       "      <td>East</td>\n",
       "      <td>2</td>\n",
       "      <td>NaN</td>\n",
       "    </tr>\n",
       "    <tr>\n",
       "      <th>2</th>\n",
       "      <td>2.0</td>\n",
       "      <td>14000000.0</td>\n",
       "      <td>17500.0</td>\n",
       "      <td>thane</td>\n",
       "      <td>779 sqft</td>\n",
       "      <td>10 out of 29</td>\n",
       "      <td>Resale</td>\n",
       "      <td>Unfurnished</td>\n",
       "      <td>East</td>\n",
       "      <td>2</td>\n",
       "      <td>NaN</td>\n",
       "    </tr>\n",
       "  </tbody>\n",
       "</table>\n",
       "</div>"
      ],
      "text/plain": [
       "   Title  Amount(in rupees)  Price (in rupees) location Carpet Area  \\\n",
       "0    1.0          4200000.0             6000.0    thane    500 sqft   \n",
       "1    2.0          9800000.0            13799.0    thane    473 sqft   \n",
       "2    2.0         14000000.0            17500.0    thane    779 sqft   \n",
       "\n",
       "          Floor Transaction      Furnishing facing Bathroom Balcony  \n",
       "0  10 out of 11      Resale     Unfurnished    NaN        1       2  \n",
       "1   3 out of 22      Resale  Semi-Furnished   East        2     NaN  \n",
       "2  10 out of 29      Resale     Unfurnished   East        2     NaN  "
      ]
     },
     "execution_count": 321,
     "metadata": {},
     "output_type": "execute_result"
    }
   ],
   "source": [
    "h.head(3)"
   ]
  },
  {
   "cell_type": "code",
   "execution_count": 322,
   "id": "62d00dd8-bc68-491d-b976-b48d6268e6bc",
   "metadata": {},
   "outputs": [
    {
     "data": {
      "text/plain": [
       "9684"
      ]
     },
     "execution_count": 322,
     "metadata": {},
     "output_type": "execute_result"
    }
   ],
   "source": [
    "h['Amount(in rupees)'].isnull().sum()"
   ]
  },
  {
   "cell_type": "code",
   "execution_count": 323,
   "id": "e9d6548e-2312-494d-a78f-ecdfdaef3539",
   "metadata": {},
   "outputs": [
    {
     "data": {
      "text/plain": [
       "<Axes: >"
      ]
     },
     "execution_count": 323,
     "metadata": {},
     "output_type": "execute_result"
    },
    {
     "data": {
      "image/png": "[encoded data removed]",
      "text/plain": [
       "<Figure size 640x480 with 1 Axes>"
      ]
     },
     "metadata": {},
     "output_type": "display_data"
    }
   ],
   "source": [
    "sns.boxplot(h['Amount(in rupees)'])"
   ]
  },
  {
   "cell_type": "code",
   "execution_count": 344,
   "id": "5f68beaa-1948-46ab-9a5d-3a3992cba99b",
   "metadata": {},
   "outputs": [
    {
     "name": "stdout",
     "output_type": "stream",
     "text": [
      "7800000.0 4850000.0\n"
     ]
    },
    {
     "data": {
      "text/plain": [
       "(12225000.0, 425000.0)"
      ]
     },
     "execution_count": 344,
     "metadata": {},
     "output_type": "execute_result"
    }
   ],
   "source": [
    "Q1 = h['Amount(in rupees)'].quantile(0.25)\n",
    "Q3 = h['Amount(in rupees)'].quantile(0.75)\n",
    "IQR = Q3 - Q1\n",
    "print(Q3,Q1)\n",
    "upper_limit = Q3 + (1.5) * IQR\n",
    "lower_limit = Q1 - (1.5) * IQR\n",
    "upper_limit,lower_limit"
   ]
  },
  {
   "cell_type": "code",
   "execution_count": 345,
   "id": "fd357f2c-071d-45c5-844d-0b728dfb729c",
   "metadata": {},
   "outputs": [
    {
     "data": {
      "text/plain": [
       "7800000.0"
      ]
     },
     "execution_count": 345,
     "metadata": {},
     "output_type": "execute_result"
    }
   ],
   "source": [
    "med = h['Amount(in rupees)'].median()\n",
    "med"
   ]
  },
  {
   "cell_type": "code",
   "execution_count": 346,
   "id": "16f2ce67-22d7-40c2-baf6-a3262178f7c9",
   "metadata": {},
   "outputs": [],
   "source": [
    "h['Amount(in rupees)'] = h['Amount(in rupees)'].apply(lambda x:med if x < lower_limit or x > upper_limit else x)"
   ]
  },
  {
   "cell_type": "code",
   "execution_count": 347,
   "id": "0f4fce89-b564-42d7-b308-8e45252001ae",
   "metadata": {},
   "outputs": [
    {
     "data": {
      "image/png": "[encoded data removed]",
      "text/plain": [
       "<Figure size 640x480 with 1 Axes>"
      ]
     },
     "metadata": {},
     "output_type": "display_data"
    }
   ],
   "source": [
    "import matplotlib.pyplot as plt\n",
    "sns.boxplot(x = h['Amount(in rupees)'])\n",
    "plt.show()"
   ]
  },
  {
   "cell_type": "code",
   "execution_count": 401,
   "id": "bbcc848c-26d9-486c-b7fc-5e8fd497ee35",
   "metadata": {},
   "outputs": [],
   "source": [
    "# find thee outliers\n",
    "#h.loc[(h['Amount(in rupees)'] < lower_limit) | (h['Amount(in rupees)'] > upper_limit)]\n",
    "# capping - change the outlier valuer upper (or) lower limit values\n",
    "#new_df = h.copy()\n",
    "##new_df.loc[(new_df['Amount(in rupees)'] > upper_limit),'Amount(in rupees)'] = Q3\n",
    "#new_df.loc[(new_df['Amount(in rupees)'] < lower_limit),'Amount(in rupees)'] = Q1"
   ]
  },
  {
   "cell_type": "code",
   "execution_count": 200,
   "id": "eb310589-3b2e-4f65-9a64-6b472be3c810",
   "metadata": {},
   "outputs": [
    {
     "data": {
      "text/html": [
       "<div>\n",
       "<style scoped>\n",
       "    .dataframe tbody tr th:only-of-type {\n",
       "        vertical-align: middle;\n",
       "    }\n",
       "\n",
       "    .dataframe tbody tr th {\n",
       "        vertical-align: top;\n",
       "    }\n",
       "\n",
       "    .dataframe thead th {\n",
       "        text-align: right;\n",
       "    }\n",
       "</style>\n",
       "<table border=\"1\" class=\"dataframe\">\n",
       "  <thead>\n",
       "    <tr style=\"text-align: right;\">\n",
       "      <th></th>\n",
       "      <th>Title</th>\n",
       "      <th>Amount(in rupees)</th>\n",
       "      <th>Price (in rupees)</th>\n",
       "      <th>location</th>\n",
       "      <th>Carpet Area</th>\n",
       "      <th>Floor</th>\n",
       "      <th>Transaction</th>\n",
       "      <th>Furnishing</th>\n",
       "      <th>facing</th>\n",
       "      <th>Bathroom</th>\n",
       "      <th>Balcony</th>\n",
       "    </tr>\n",
       "  </thead>\n",
       "  <tbody>\n",
       "    <tr>\n",
       "      <th>0</th>\n",
       "      <td>1.0</td>\n",
       "      <td>4200000.0</td>\n",
       "      <td>6000.0</td>\n",
       "      <td>thane</td>\n",
       "      <td>500 sqft</td>\n",
       "      <td>10 out of 11</td>\n",
       "      <td>Resale</td>\n",
       "      <td>Unfurnished</td>\n",
       "      <td>NaN</td>\n",
       "      <td>1</td>\n",
       "      <td>2</td>\n",
       "    </tr>\n",
       "    <tr>\n",
       "      <th>1</th>\n",
       "      <td>2.0</td>\n",
       "      <td>9800000.0</td>\n",
       "      <td>13799.0</td>\n",
       "      <td>thane</td>\n",
       "      <td>473 sqft</td>\n",
       "      <td>3 out of 22</td>\n",
       "      <td>Resale</td>\n",
       "      <td>Semi-Furnished</td>\n",
       "      <td>East</td>\n",
       "      <td>2</td>\n",
       "      <td>NaN</td>\n",
       "    </tr>\n",
       "  </tbody>\n",
       "</table>\n",
       "</div>"
      ],
      "text/plain": [
       "   Title  Amount(in rupees)  Price (in rupees) location Carpet Area  \\\n",
       "0    1.0          4200000.0             6000.0    thane    500 sqft   \n",
       "1    2.0          9800000.0            13799.0    thane    473 sqft   \n",
       "\n",
       "          Floor Transaction      Furnishing facing Bathroom Balcony  \n",
       "0  10 out of 11      Resale     Unfurnished    NaN        1       2  \n",
       "1   3 out of 22      Resale  Semi-Furnished   East        2     NaN  "
      ]
     },
     "execution_count": 200,
     "metadata": {},
     "output_type": "execute_result"
    }
   ],
   "source": [
    "h.head(2)"
   ]
  },
  {
   "cell_type": "code",
   "execution_count": 348,
   "id": "ebdd7dc7-4959-4daa-8eeb-41546f54b715",
   "metadata": {},
   "outputs": [
    {
     "data": {
      "text/plain": [
       "17665"
      ]
     },
     "execution_count": 348,
     "metadata": {},
     "output_type": "execute_result"
    }
   ],
   "source": [
    "#2\n",
    "h['Price (in rupees)'].isnull().sum()"
   ]
  },
  {
   "cell_type": "code",
   "execution_count": 393,
   "id": "41746fb2-ef27-4560-9774-4b17d3e62f05",
   "metadata": {},
   "outputs": [
    {
     "name": "stdout",
     "output_type": "stream",
     "text": [
      "6034.0 4333.0\n"
     ]
    },
    {
     "data": {
      "text/plain": [
       "(8585.5, 1781.5)"
      ]
     },
     "execution_count": 393,
     "metadata": {},
     "output_type": "execute_result"
    }
   ],
   "source": [
    "# 2\n",
    "Q1 = h['Price (in rupees)'].quantile(0.25)\n",
    "Q3 = h['Price (in rupees)'].quantile(0.75)\n",
    "IQR = Q3 - Q1\n",
    "print(Q3,Q1)\n",
    "upper_limit = Q3 + (1.5 * IQR)\n",
    "lower_limit = Q1 - (1.5 * IQR)\n",
    "upper_limit,lower_limit\n",
    "# find thee outliers\n",
    "# new_df.loc[(new_df['Price (in rupees)'] < lower_limit) | (new_df['Price (in rupees)'] > upper_limit)]"
   ]
  },
  {
   "cell_type": "code",
   "execution_count": 394,
   "id": "ef7e2356-d097-4f54-970f-d69aab542772",
   "metadata": {},
   "outputs": [
    {
     "data": {
      "text/plain": [
       "6034.0"
      ]
     },
     "execution_count": 394,
     "metadata": {},
     "output_type": "execute_result"
    }
   ],
   "source": [
    "med = h['Price (in rupees)'].median()\n",
    "med"
   ]
  },
  {
   "cell_type": "code",
   "execution_count": 395,
   "id": "8de70a03-49a8-40e9-b213-efc2599a3675",
   "metadata": {},
   "outputs": [],
   "source": [
    "h['Price (in rupees)'] = h['Price (in rupees)'].apply(lambda x:med if x < lower_limit or x > upper_limit else x)"
   ]
  },
  {
   "cell_type": "code",
   "execution_count": 396,
   "id": "688dbce4-cf30-4617-9b6a-9ff3084de2f7",
   "metadata": {},
   "outputs": [
    {
     "data": {
      "image/png": "[encoded data removed]",
      "text/plain": [
       "<Figure size 640x480 with 1 Axes>"
      ]
     },
     "metadata": {},
     "output_type": "display_data"
    }
   ],
   "source": [
    "import matplotlib.pyplot as plt\n",
    "sns.boxplot(x = h['Price (in rupees)'])\n",
    "plt.show()"
   ]
  },
  {
   "cell_type": "code",
   "execution_count": 397,
   "id": "3787a817-0f81-4b4c-bb4e-5c026fb02184",
   "metadata": {},
   "outputs": [
    {
     "data": {
      "image/png": "[encoded data removed]",
      "text/plain": [
       "<Figure size 640x480 with 1 Axes>"
      ]
     },
     "metadata": {},
     "output_type": "display_data"
    }
   ],
   "source": [
    "h.boxplot(column = 'Price (in rupees)')\n",
    "plt.show()"
   ]
  },
  {
   "cell_type": "code",
   "execution_count": 398,
   "id": "d8e1351c-27cc-49ed-8a5f-6acfaa6cd166",
   "metadata": {},
   "outputs": [
    {
     "data": {
      "text/plain": [
       "Index(['Title', 'Amount(in rupees)', 'Price (in rupees)', 'location',\n",
       "       'Carpet Area', 'Floor', 'Transaction', 'Furnishing', 'facing',\n",
       "       'Bathroom', 'Balcony'],\n",
       "      dtype='object')"
      ]
     },
     "execution_count": 398,
     "metadata": {},
     "output_type": "execute_result"
    }
   ],
   "source": [
    "h.columns"
   ]
  },
  {
   "cell_type": "code",
   "execution_count": 399,
   "id": "ea8244da-ddd3-4f1c-a86a-9c4315ba739f",
   "metadata": {},
   "outputs": [
    {
     "data": {
      "text/html": [
       "<div>\n",
       "<style scoped>\n",
       "    .dataframe tbody tr th:only-of-type {\n",
       "        vertical-align: middle;\n",
       "    }\n",
       "\n",
       "    .dataframe tbody tr th {\n",
       "        vertical-align: top;\n",
       "    }\n",
       "\n",
       "    .dataframe thead th {\n",
       "        text-align: right;\n",
       "    }\n",
       "</style>\n",
       "<table border=\"1\" class=\"dataframe\">\n",
       "  <thead>\n",
       "    <tr style=\"text-align: right;\">\n",
       "      <th></th>\n",
       "      <th>Title</th>\n",
       "      <th>Amount(in rupees)</th>\n",
       "      <th>Price (in rupees)</th>\n",
       "      <th>location</th>\n",
       "      <th>Carpet Area</th>\n",
       "      <th>Floor</th>\n",
       "      <th>Transaction</th>\n",
       "      <th>Furnishing</th>\n",
       "      <th>facing</th>\n",
       "      <th>Bathroom</th>\n",
       "      <th>Balcony</th>\n",
       "    </tr>\n",
       "  </thead>\n",
       "  <tbody>\n",
       "    <tr>\n",
       "      <th>0</th>\n",
       "      <td>1.0</td>\n",
       "      <td>4200000.0</td>\n",
       "      <td>6000.0</td>\n",
       "      <td>thane</td>\n",
       "      <td>500 sqft</td>\n",
       "      <td>10 out of 11</td>\n",
       "      <td>Resale</td>\n",
       "      <td>Unfurnished</td>\n",
       "      <td>NaN</td>\n",
       "      <td>1</td>\n",
       "      <td>2</td>\n",
       "    </tr>\n",
       "    <tr>\n",
       "      <th>1</th>\n",
       "      <td>2.0</td>\n",
       "      <td>9800000.0</td>\n",
       "      <td>6034.0</td>\n",
       "      <td>thane</td>\n",
       "      <td>473 sqft</td>\n",
       "      <td>3 out of 22</td>\n",
       "      <td>Resale</td>\n",
       "      <td>Semi-Furnished</td>\n",
       "      <td>East</td>\n",
       "      <td>2</td>\n",
       "      <td>NaN</td>\n",
       "    </tr>\n",
       "    <tr>\n",
       "      <th>2</th>\n",
       "      <td>2.0</td>\n",
       "      <td>7800000.0</td>\n",
       "      <td>6034.0</td>\n",
       "      <td>thane</td>\n",
       "      <td>779 sqft</td>\n",
       "      <td>10 out of 29</td>\n",
       "      <td>Resale</td>\n",
       "      <td>Unfurnished</td>\n",
       "      <td>East</td>\n",
       "      <td>2</td>\n",
       "      <td>NaN</td>\n",
       "    </tr>\n",
       "    <tr>\n",
       "      <th>3</th>\n",
       "      <td>1.0</td>\n",
       "      <td>2500000.0</td>\n",
       "      <td>NaN</td>\n",
       "      <td>thane</td>\n",
       "      <td>530 sqft</td>\n",
       "      <td>1 out of 3</td>\n",
       "      <td>Resale</td>\n",
       "      <td>Unfurnished</td>\n",
       "      <td>NaN</td>\n",
       "      <td>1</td>\n",
       "      <td>1</td>\n",
       "    </tr>\n",
       "    <tr>\n",
       "      <th>4</th>\n",
       "      <td>2.0</td>\n",
       "      <td>7800000.0</td>\n",
       "      <td>6034.0</td>\n",
       "      <td>thane</td>\n",
       "      <td>635 sqft</td>\n",
       "      <td>20 out of 42</td>\n",
       "      <td>Resale</td>\n",
       "      <td>Unfurnished</td>\n",
       "      <td>West</td>\n",
       "      <td>2</td>\n",
       "      <td>NaN</td>\n",
       "    </tr>\n",
       "    <tr>\n",
       "      <th>...</th>\n",
       "      <td>...</td>\n",
       "      <td>...</td>\n",
       "      <td>...</td>\n",
       "      <td>...</td>\n",
       "      <td>...</td>\n",
       "      <td>...</td>\n",
       "      <td>...</td>\n",
       "      <td>...</td>\n",
       "      <td>...</td>\n",
       "      <td>...</td>\n",
       "      <td>...</td>\n",
       "    </tr>\n",
       "    <tr>\n",
       "      <th>187526</th>\n",
       "      <td>3.0</td>\n",
       "      <td>6300000.0</td>\n",
       "      <td>3225.0</td>\n",
       "      <td>zirakpur</td>\n",
       "      <td>NaN</td>\n",
       "      <td>2 out of 4</td>\n",
       "      <td>New Property</td>\n",
       "      <td>Semi-Furnished</td>\n",
       "      <td>East</td>\n",
       "      <td>3</td>\n",
       "      <td>3</td>\n",
       "    </tr>\n",
       "    <tr>\n",
       "      <th>187527</th>\n",
       "      <td>3.0</td>\n",
       "      <td>5500000.0</td>\n",
       "      <td>3274.0</td>\n",
       "      <td>zirakpur</td>\n",
       "      <td>NaN</td>\n",
       "      <td>4 out of 6</td>\n",
       "      <td>Resale</td>\n",
       "      <td>Unfurnished</td>\n",
       "      <td>North - East</td>\n",
       "      <td>3</td>\n",
       "      <td>NaN</td>\n",
       "    </tr>\n",
       "    <tr>\n",
       "      <th>187528</th>\n",
       "      <td>3.0</td>\n",
       "      <td>7600000.0</td>\n",
       "      <td>4343.0</td>\n",
       "      <td>zirakpur</td>\n",
       "      <td>1250 sqft</td>\n",
       "      <td>1 out of 3</td>\n",
       "      <td>Resale</td>\n",
       "      <td>Furnished</td>\n",
       "      <td>East</td>\n",
       "      <td>3</td>\n",
       "      <td>2</td>\n",
       "    </tr>\n",
       "    <tr>\n",
       "      <th>187529</th>\n",
       "      <td>2.0</td>\n",
       "      <td>3000000.0</td>\n",
       "      <td>4231.0</td>\n",
       "      <td>zirakpur</td>\n",
       "      <td>NaN</td>\n",
       "      <td>2 out of 2</td>\n",
       "      <td>Resale</td>\n",
       "      <td>Semi-Furnished</td>\n",
       "      <td>NaN</td>\n",
       "      <td>2</td>\n",
       "      <td>NaN</td>\n",
       "    </tr>\n",
       "    <tr>\n",
       "      <th>187530</th>\n",
       "      <td>3.0</td>\n",
       "      <td>11800000.0</td>\n",
       "      <td>6162.0</td>\n",
       "      <td>zirakpur</td>\n",
       "      <td>NaN</td>\n",
       "      <td>5 out of 13</td>\n",
       "      <td>Resale</td>\n",
       "      <td>Semi-Furnished</td>\n",
       "      <td>North - East</td>\n",
       "      <td>4</td>\n",
       "      <td>4</td>\n",
       "    </tr>\n",
       "  </tbody>\n",
       "</table>\n",
       "<p>187531 rows × 11 columns</p>\n",
       "</div>"
      ],
      "text/plain": [
       "        Title  Amount(in rupees)  Price (in rupees)  location Carpet Area  \\\n",
       "0         1.0          4200000.0             6000.0     thane    500 sqft   \n",
       "1         2.0          9800000.0             6034.0     thane    473 sqft   \n",
       "2         2.0          7800000.0             6034.0     thane    779 sqft   \n",
       "3         1.0          2500000.0                NaN     thane    530 sqft   \n",
       "4         2.0          7800000.0             6034.0     thane    635 sqft   \n",
       "...       ...                ...                ...       ...         ...   \n",
       "187526    3.0          6300000.0             3225.0  zirakpur         NaN   \n",
       "187527    3.0          5500000.0             3274.0  zirakpur         NaN   \n",
       "187528    3.0          7600000.0             4343.0  zirakpur   1250 sqft   \n",
       "187529    2.0          3000000.0             4231.0  zirakpur         NaN   \n",
       "187530    3.0         11800000.0             6162.0  zirakpur         NaN   \n",
       "\n",
       "               Floor   Transaction      Furnishing        facing Bathroom  \\\n",
       "0       10 out of 11        Resale     Unfurnished           NaN        1   \n",
       "1        3 out of 22        Resale  Semi-Furnished          East        2   \n",
       "2       10 out of 29        Resale     Unfurnished          East        2   \n",
       "3         1 out of 3        Resale     Unfurnished           NaN        1   \n",
       "4       20 out of 42        Resale     Unfurnished          West        2   \n",
       "...              ...           ...             ...           ...      ...   \n",
       "187526    2 out of 4  New Property  Semi-Furnished          East        3   \n",
       "187527    4 out of 6        Resale     Unfurnished  North - East        3   \n",
       "187528    1 out of 3        Resale       Furnished          East        3   \n",
       "187529    2 out of 2        Resale  Semi-Furnished           NaN        2   \n",
       "187530   5 out of 13        Resale  Semi-Furnished  North - East        4   \n",
       "\n",
       "       Balcony  \n",
       "0            2  \n",
       "1          NaN  \n",
       "2          NaN  \n",
       "3            1  \n",
       "4          NaN  \n",
       "...        ...  \n",
       "187526       3  \n",
       "187527     NaN  \n",
       "187528       2  \n",
       "187529     NaN  \n",
       "187530       4  \n",
       "\n",
       "[187531 rows x 11 columns]"
      ]
     },
     "execution_count": 399,
     "metadata": {},
     "output_type": "execute_result"
    }
   ],
   "source": [
    "h"
   ]
  },
  {
   "cell_type": "code",
   "execution_count": 116,
   "id": "1a0ef84d-db31-4b68-a398-af2aeecb62e6",
   "metadata": {},
   "outputs": [
    {
     "data": {
      "text/plain": [
       "80673"
      ]
     },
     "execution_count": 116,
     "metadata": {},
     "output_type": "execute_result"
    }
   ],
   "source": [
    "#new_df['Carpet Area'].isnull().sum()\n",
    "#new_df['Carpet Area'].fillna(new_df['Carpet Area'].median(),inplace = True)"
   ]
  },
  {
   "cell_type": "code",
   "execution_count": 400,
   "id": "78e209ea-296d-4e6f-9ad5-853c4dc6bcd9",
   "metadata": {},
   "outputs": [
    {
     "data": {
      "text/plain": [
       "0"
      ]
     },
     "execution_count": 400,
     "metadata": {},
     "output_type": "execute_result"
    }
   ],
   "source": [
    "h['location'].isnull().sum()"
   ]
  },
  {
   "cell_type": "code",
   "execution_count": 401,
   "id": "e8c5ea77-6d8a-40dc-b7d6-992d83dd8e12",
   "metadata": {},
   "outputs": [
    {
     "data": {
      "text/plain": [
       "array(['thane', 'navi-mumbai', 'nagpur', 'mumbai', 'ahmedabad',\n",
       "       'bangalore', 'chennai', 'gurgaon', 'hyderabad', 'indore', 'jaipur',\n",
       "       'kolkata', 'lucknow', 'new-delhi', 'noida', 'pune', 'agra',\n",
       "       'ahmadnagar', 'allahabad', 'aurangabad', 'badlapur', 'belgaum',\n",
       "       'bhiwadi', 'bhiwandi', 'bhopal', 'bhubaneswar', 'chandigarh',\n",
       "       'coimbatore', 'dehradun', 'durgapur', 'ernakulam', 'faridabad',\n",
       "       'ghaziabad', 'goa', 'greater-noida', 'guntur', 'guwahati',\n",
       "       'gwalior', 'haridwar', 'jabalpur', 'jamshedpur', 'jodhpur',\n",
       "       'kalyan', 'kanpur', 'kochi', 'kozhikode', 'ludhiana', 'madurai',\n",
       "       'mangalore', 'mohali', 'mysore', 'nashik', 'navsari', 'nellore',\n",
       "       'palakkad', 'palghar', 'panchkula', 'patna', 'pondicherry',\n",
       "       'raipur', 'rajahmundry', 'ranchi', 'satara', 'shimla', 'siliguri',\n",
       "       'solapur', 'sonipat', 'surat', 'thrissur', 'tirupati', 'trichy',\n",
       "       'trivandrum', 'udaipur', 'udupi', 'vadodara', 'vapi', 'varanasi',\n",
       "       'vijayawada', 'visakhapatnam', 'vrindavan', 'zirakpur'],\n",
       "      dtype=object)"
      ]
     },
     "execution_count": 401,
     "metadata": {},
     "output_type": "execute_result"
    }
   ],
   "source": [
    "h['location'].unique()"
   ]
  },
  {
   "cell_type": "code",
   "execution_count": 402,
   "id": "256039ec-dc81-441a-b37d-fc82c8cc6b92",
   "metadata": {},
   "outputs": [],
   "source": [
    "def clean_carpet_area(area):\n",
    "    # Handle missing or non-string values safely\n",
    "    if not isinstance(area, str):\n",
    "        return None\n",
    "\n",
    "    # Extract number from the string\n",
    "    digits = ''.join(c for c in area if c.isdigit())\n",
    "    if digits == '':\n",
    "        return None\n",
    "    number = float(digits)\n",
    "\n",
    "    # Convert square yard to sqft if needed\n",
    "    area_lower = area.lower()\n",
    "    if 'sqyrd' in area_lower or 'sqyd' in area_lower:\n",
    "        return number * 9  # 1 sqyrd = 9 sqft\n",
    "    else:\n",
    "        return number  # assume it's already in sqft\n",
    "\n",
    "# Apply to your DataFrame column\n",
    "h['Carpet Area (sqft)'] = h['Carpet Area'].apply(clean_carpet_area)"
   ]
  },
  {
   "cell_type": "code",
   "execution_count": 403,
   "id": "1f80039e-3309-4f35-96a4-4631dbd95fa2",
   "metadata": {},
   "outputs": [
    {
     "data": {
      "text/plain": [
       "array([ 500.,  473.,  779., ...,  302., 1526., 1634.])"
      ]
     },
     "execution_count": 403,
     "metadata": {},
     "output_type": "execute_result"
    }
   ],
   "source": [
    "h['Carpet Area (sqft)'].unique()"
   ]
  },
  {
   "cell_type": "code",
   "execution_count": 404,
   "id": "c9af122f-ab52-48e2-beca-09948543088a",
   "metadata": {},
   "outputs": [
    {
     "data": {
      "image/png": "[encoded data removed]",
      "text/plain": [
       "<Figure size 640x480 with 1 Axes>"
      ]
     },
     "metadata": {},
     "output_type": "display_data"
    }
   ],
   "source": [
    "import matplotlib.pyplot as plt\n",
    "sns.boxplot(x =h['Carpet Area (sqft)'])\n",
    "plt.show()"
   ]
  },
  {
   "cell_type": "code",
   "execution_count": 413,
   "id": "af7c2acc-b27c-4e5d-b351-c45eb241e958",
   "metadata": {},
   "outputs": [
    {
     "name": "stdout",
     "output_type": "stream",
     "text": [
      "1400.0 800.0\n"
     ]
    },
    {
     "data": {
      "text/plain": [
       "(2300.0, -100.0)"
      ]
     },
     "execution_count": 413,
     "metadata": {},
     "output_type": "execute_result"
    }
   ],
   "source": [
    "Q1 = h['Carpet Area (sqft)'].quantile(0.25)\n",
    "Q3 = h['Carpet Area (sqft)'].quantile(0.75)\n",
    "IQR = Q3 - Q1\n",
    "print(Q3,Q1)\n",
    "upper_limit = Q3 + (1.5 * IQR)\n",
    "lower_limit = Q1 - (1.5 * IQR)\n",
    "upper_limit,lower_limit"
   ]
  },
  {
   "cell_type": "code",
   "execution_count": 414,
   "id": "55248ce0-949f-4318-a300-3240f3fb4e01",
   "metadata": {},
   "outputs": [
    {
     "data": {
      "text/plain": [
       "1060.0"
      ]
     },
     "execution_count": 414,
     "metadata": {},
     "output_type": "execute_result"
    }
   ],
   "source": [
    "med = h['Carpet Area (sqft)'].median()\n",
    "med"
   ]
  },
  {
   "cell_type": "code",
   "execution_count": 415,
   "id": "644a7f37-95c1-42ef-ba0e-d0978378851c",
   "metadata": {},
   "outputs": [],
   "source": [
    "h['Carpet Area (sqft)'] = h['Carpet Area (sqft)'].apply(lambda x:med if x < lower_limit or x > upper_limit else x)"
   ]
  },
  {
   "cell_type": "code",
   "execution_count": 416,
   "id": "95785a8e-9fb6-4c3e-9540-f9d7118173a3",
   "metadata": {},
   "outputs": [
    {
     "data": {
      "image/png": "[encoded data removed]",
      "text/plain": [
       "<Figure size 640x480 with 1 Axes>"
      ]
     },
     "metadata": {},
     "output_type": "display_data"
    }
   ],
   "source": [
    "import matplotlib.pyplot as plt\n",
    "sns.boxplot(x =h['Carpet Area (sqft)'])\n",
    "plt.show()"
   ]
  },
  {
   "cell_type": "code",
   "execution_count": 417,
   "id": "0a617472-fbff-4e43-934d-0f11aec042a2",
   "metadata": {},
   "outputs": [
    {
     "data": {
      "text/plain": [
       "Title                     0\n",
       "Amount(in rupees)      9684\n",
       "Price (in rupees)     17665\n",
       "location                  0\n",
       "Carpet Area           80673\n",
       "Floor                  7077\n",
       "Transaction              83\n",
       "Furnishing             2897\n",
       "facing                70233\n",
       "Bathroom                828\n",
       "Balcony               48935\n",
       "Carpet Area (sqft)    80673\n",
       "dtype: int64"
      ]
     },
     "execution_count": 417,
     "metadata": {},
     "output_type": "execute_result"
    }
   ],
   "source": [
    "h.isnull().sum()"
   ]
  },
  {
   "cell_type": "code",
   "execution_count": 265,
   "id": "22f4e6a7-79e2-4293-8ded-d9816f552613",
   "metadata": {},
   "outputs": [],
   "source": [
    "# new_df.to_csv(\"cleaned_House_Prize.csv\")"
   ]
  },
  {
   "cell_type": "code",
   "execution_count": 418,
   "id": "5d987024-9027-452d-9835-d86085b53fc1",
   "metadata": {},
   "outputs": [
    {
     "data": {
      "text/html": [
       "<div>\n",
       "<style scoped>\n",
       "    .dataframe tbody tr th:only-of-type {\n",
       "        vertical-align: middle;\n",
       "    }\n",
       "\n",
       "    .dataframe tbody tr th {\n",
       "        vertical-align: top;\n",
       "    }\n",
       "\n",
       "    .dataframe thead th {\n",
       "        text-align: right;\n",
       "    }\n",
       "</style>\n",
       "<table border=\"1\" class=\"dataframe\">\n",
       "  <thead>\n",
       "    <tr style=\"text-align: right;\">\n",
       "      <th></th>\n",
       "      <th>Floor</th>\n",
       "    </tr>\n",
       "  </thead>\n",
       "  <tbody>\n",
       "    <tr>\n",
       "      <th>0</th>\n",
       "      <td>10.0</td>\n",
       "    </tr>\n",
       "    <tr>\n",
       "      <th>1</th>\n",
       "      <td>3.0</td>\n",
       "    </tr>\n",
       "    <tr>\n",
       "      <th>2</th>\n",
       "      <td>10.0</td>\n",
       "    </tr>\n",
       "    <tr>\n",
       "      <th>3</th>\n",
       "      <td>1.0</td>\n",
       "    </tr>\n",
       "    <tr>\n",
       "      <th>4</th>\n",
       "      <td>20.0</td>\n",
       "    </tr>\n",
       "  </tbody>\n",
       "</table>\n",
       "</div>"
      ],
      "text/plain": [
       "   Floor\n",
       "0   10.0\n",
       "1    3.0\n",
       "2   10.0\n",
       "3    1.0\n",
       "4   20.0"
      ]
     },
     "execution_count": 418,
     "metadata": {},
     "output_type": "execute_result"
    }
   ],
   "source": [
    "# Function to clean floor values\n",
    "def clean_floor(val):\n",
    "    val = str(val).lower().strip()\n",
    "    if 'ground' in val:\n",
    "        return 0\n",
    "    elif 'basement' in val:\n",
    "        return -1  # or any placeholder like -1 or NaN\n",
    "    elif 'out of' in val:\n",
    "        try:\n",
    "            return int(val.split('out of')[0].strip())\n",
    "        except:\n",
    "            return None\n",
    "    elif val.isdigit():\n",
    "        return int(val)\n",
    "    else:\n",
    "        return None  # for NaN, unknown, or unhandled cases\n",
    "\n",
    "# Apply cleaning function\n",
    "h['Floor'] = h['Floor'].apply(clean_floor)\n",
    "\n",
    "# Preview result\n",
    "h[['Floor']].head()"
   ]
  },
  {
   "cell_type": "code",
   "execution_count": 419,
   "id": "8532d0f4-8c0f-4a5e-aad7-a2d51001d130",
   "metadata": {},
   "outputs": [
    {
     "data": {
      "text/plain": [
       "array([ 10.,   3.,   1.,  20.,   2.,   4.,   0.,   6.,  16.,   8.,  18.,\n",
       "         5.,  15.,  27.,  11.,   9.,  14.,  12.,   7.,  21.,  -1.,  nan,\n",
       "        29.,  13.,  19.,  17.,  28.,  30.,  23.,  25.,  26.,  24.,  22.,\n",
       "        50.,  32.,  33.,  40.,  35.,  42.,  63.,  38.,  34.,  60.,  31.,\n",
       "        37.,  75.,  70.,  39.,  44.,  46.,  36.,  59.,  45.,  51., 200.])"
      ]
     },
     "execution_count": 419,
     "metadata": {},
     "output_type": "execute_result"
    }
   ],
   "source": [
    "h['Floor'].unique()"
   ]
  },
  {
   "cell_type": "code",
   "execution_count": 432,
   "id": "776276ef-160f-44b4-9646-11601622fef9",
   "metadata": {},
   "outputs": [
    {
     "name": "stdout",
     "output_type": "stream",
     "text": [
      "3.0 2.0\n"
     ]
    },
    {
     "data": {
      "text/plain": [
       "(4.5, 0.5)"
      ]
     },
     "execution_count": 432,
     "metadata": {},
     "output_type": "execute_result"
    }
   ],
   "source": [
    "Q1 = h['Floor'].quantile(0.25)\n",
    "Q3 = h['Floor'].quantile(0.75)\n",
    "IQR = Q3 - Q1\n",
    "print(Q3,Q1)\n",
    "upper_limit = Q3 + (1.5 * IQR)\n",
    "lower_limit = Q1 - (1.5 * IQR)\n",
    "upper_limit,lower_limit"
   ]
  },
  {
   "cell_type": "code",
   "execution_count": 433,
   "id": "1cfc72d3-cc02-439a-80f6-c9e77aef71c3",
   "metadata": {},
   "outputs": [
    {
     "data": {
      "text/plain": [
       "3.0"
      ]
     },
     "execution_count": 433,
     "metadata": {},
     "output_type": "execute_result"
    }
   ],
   "source": [
    "med = h['Floor'].median()\n",
    "med"
   ]
  },
  {
   "cell_type": "code",
   "execution_count": 434,
   "id": "54cf4b87-0636-4f1e-bd2b-2fa167649c9e",
   "metadata": {},
   "outputs": [],
   "source": [
    "h['Floor'] = h['Floor'].apply(lambda x:med if x < lower_limit or x > upper_limit else x)"
   ]
  },
  {
   "cell_type": "code",
   "execution_count": 435,
   "id": "cc308ce9-458e-4709-9c65-739ef2d3629d",
   "metadata": {},
   "outputs": [
    {
     "data": {
      "image/png": "[encoded data removed]",
      "text/plain": [
       "<Figure size 640x480 with 1 Axes>"
      ]
     },
     "metadata": {},
     "output_type": "display_data"
    }
   ],
   "source": [
    "import matplotlib.pyplot as plt\n",
    "sns.boxplot(x =h['Floor'])\n",
    "plt.show()"
   ]
  },
  {
   "cell_type": "code",
   "execution_count": 436,
   "id": "8f2ef17d-29ab-4f8f-8218-d47415542c19",
   "metadata": {},
   "outputs": [
    {
     "data": {
      "text/html": [
       "<div>\n",
       "<style scoped>\n",
       "    .dataframe tbody tr th:only-of-type {\n",
       "        vertical-align: middle;\n",
       "    }\n",
       "\n",
       "    .dataframe tbody tr th {\n",
       "        vertical-align: top;\n",
       "    }\n",
       "\n",
       "    .dataframe thead th {\n",
       "        text-align: right;\n",
       "    }\n",
       "</style>\n",
       "<table border=\"1\" class=\"dataframe\">\n",
       "  <thead>\n",
       "    <tr style=\"text-align: right;\">\n",
       "      <th></th>\n",
       "      <th>Title</th>\n",
       "      <th>Amount(in rupees)</th>\n",
       "      <th>Price (in rupees)</th>\n",
       "      <th>location</th>\n",
       "      <th>Carpet Area</th>\n",
       "      <th>Floor</th>\n",
       "      <th>Transaction</th>\n",
       "      <th>Furnishing</th>\n",
       "      <th>facing</th>\n",
       "      <th>Bathroom</th>\n",
       "      <th>Balcony</th>\n",
       "      <th>Carpet Area (sqft)</th>\n",
       "    </tr>\n",
       "  </thead>\n",
       "  <tbody>\n",
       "    <tr>\n",
       "      <th>0</th>\n",
       "      <td>1.0</td>\n",
       "      <td>4200000.0</td>\n",
       "      <td>6000.0</td>\n",
       "      <td>thane</td>\n",
       "      <td>500 sqft</td>\n",
       "      <td>3.0</td>\n",
       "      <td>Resale</td>\n",
       "      <td>Unfurnished</td>\n",
       "      <td>NaN</td>\n",
       "      <td>1</td>\n",
       "      <td>2</td>\n",
       "      <td>500.0</td>\n",
       "    </tr>\n",
       "    <tr>\n",
       "      <th>1</th>\n",
       "      <td>2.0</td>\n",
       "      <td>9800000.0</td>\n",
       "      <td>6034.0</td>\n",
       "      <td>thane</td>\n",
       "      <td>473 sqft</td>\n",
       "      <td>3.0</td>\n",
       "      <td>Resale</td>\n",
       "      <td>Semi-Furnished</td>\n",
       "      <td>East</td>\n",
       "      <td>2</td>\n",
       "      <td>NaN</td>\n",
       "      <td>473.0</td>\n",
       "    </tr>\n",
       "    <tr>\n",
       "      <th>2</th>\n",
       "      <td>2.0</td>\n",
       "      <td>7800000.0</td>\n",
       "      <td>6034.0</td>\n",
       "      <td>thane</td>\n",
       "      <td>779 sqft</td>\n",
       "      <td>3.0</td>\n",
       "      <td>Resale</td>\n",
       "      <td>Unfurnished</td>\n",
       "      <td>East</td>\n",
       "      <td>2</td>\n",
       "      <td>NaN</td>\n",
       "      <td>779.0</td>\n",
       "    </tr>\n",
       "    <tr>\n",
       "      <th>3</th>\n",
       "      <td>1.0</td>\n",
       "      <td>2500000.0</td>\n",
       "      <td>NaN</td>\n",
       "      <td>thane</td>\n",
       "      <td>530 sqft</td>\n",
       "      <td>1.0</td>\n",
       "      <td>Resale</td>\n",
       "      <td>Unfurnished</td>\n",
       "      <td>NaN</td>\n",
       "      <td>1</td>\n",
       "      <td>1</td>\n",
       "      <td>530.0</td>\n",
       "    </tr>\n",
       "    <tr>\n",
       "      <th>4</th>\n",
       "      <td>2.0</td>\n",
       "      <td>7800000.0</td>\n",
       "      <td>6034.0</td>\n",
       "      <td>thane</td>\n",
       "      <td>635 sqft</td>\n",
       "      <td>3.0</td>\n",
       "      <td>Resale</td>\n",
       "      <td>Unfurnished</td>\n",
       "      <td>West</td>\n",
       "      <td>2</td>\n",
       "      <td>NaN</td>\n",
       "      <td>635.0</td>\n",
       "    </tr>\n",
       "  </tbody>\n",
       "</table>\n",
       "</div>"
      ],
      "text/plain": [
       "   Title  Amount(in rupees)  Price (in rupees) location Carpet Area  Floor  \\\n",
       "0    1.0          4200000.0             6000.0    thane    500 sqft    3.0   \n",
       "1    2.0          9800000.0             6034.0    thane    473 sqft    3.0   \n",
       "2    2.0          7800000.0             6034.0    thane    779 sqft    3.0   \n",
       "3    1.0          2500000.0                NaN    thane    530 sqft    1.0   \n",
       "4    2.0          7800000.0             6034.0    thane    635 sqft    3.0   \n",
       "\n",
       "  Transaction      Furnishing facing Bathroom Balcony  Carpet Area (sqft)  \n",
       "0      Resale     Unfurnished    NaN        1       2               500.0  \n",
       "1      Resale  Semi-Furnished   East        2     NaN               473.0  \n",
       "2      Resale     Unfurnished   East        2     NaN               779.0  \n",
       "3      Resale     Unfurnished    NaN        1       1               530.0  \n",
       "4      Resale     Unfurnished   West        2     NaN               635.0  "
      ]
     },
     "execution_count": 436,
     "metadata": {},
     "output_type": "execute_result"
    }
   ],
   "source": [
    "h.head()"
   ]
  },
  {
   "cell_type": "code",
   "execution_count": 437,
   "id": "3a24cb53-898a-46d1-9911-5479a326f104",
   "metadata": {},
   "outputs": [
    {
     "data": {
      "text/plain": [
       "array(['Resale', 'New Property', nan, 'Other', 'Rent/Lease'], dtype=object)"
      ]
     },
     "execution_count": 437,
     "metadata": {},
     "output_type": "execute_result"
    }
   ],
   "source": [
    "h['Transaction'].unique()"
   ]
  },
  {
   "cell_type": "code",
   "execution_count": 438,
   "id": "3c8697e8-6b84-45bb-9f0d-fb11c09331f8",
   "metadata": {},
   "outputs": [
    {
     "data": {
      "text/plain": [
       "array(['Unfurnished', 'Semi-Furnished', 'Furnished', nan], dtype=object)"
      ]
     },
     "execution_count": 438,
     "metadata": {},
     "output_type": "execute_result"
    }
   ],
   "source": [
    "h['Furnishing'].unique()"
   ]
  },
  {
   "cell_type": "code",
   "execution_count": 439,
   "id": "4b667e08-556e-462a-b3b9-c438eab73e77",
   "metadata": {},
   "outputs": [
    {
     "data": {
      "text/plain": [
       "array([nan, 'East', 'West', 'North - East', 'North', 'North - West',\n",
       "       'South', 'South -West', 'South - East'], dtype=object)"
      ]
     },
     "execution_count": 439,
     "metadata": {},
     "output_type": "execute_result"
    }
   ],
   "source": [
    "h['facing'].unique()"
   ]
  },
  {
   "cell_type": "code",
   "execution_count": 442,
   "id": "0d5a4f72-ed24-4789-a932-daae7301aa66",
   "metadata": {},
   "outputs": [
    {
     "data": {
      "text/plain": [
       "array([ 1.,  2.,  3.,  4.,  6., nan,  5., 10.,  9.,  8., 11.,  7.])"
      ]
     },
     "execution_count": 442,
     "metadata": {},
     "output_type": "execute_result"
    }
   ],
   "source": [
    "h['Bathroom'].unique()"
   ]
  },
  {
   "cell_type": "code",
   "execution_count": 441,
   "id": "67b9c147-e4fe-4a0b-96b3-8f2c98a0f855",
   "metadata": {},
   "outputs": [],
   "source": [
    "# Ensure numeric columns are of correct type\n",
    "h[\"Bathroom\"] = h[\"Bathroom\"].replace('> 10', '11')\n",
    "h[\"Bathroom\"] = pd.to_numeric(h[\"Bathroom\"], errors='coerce')"
   ]
  },
  {
   "cell_type": "code",
   "execution_count": 445,
   "id": "ceda1128-7705-4290-9c9a-0163faf2f6ab",
   "metadata": {},
   "outputs": [
    {
     "data": {
      "text/plain": [
       "array([ 2., nan,  1.,  3.,  4., 11.,  6.,  5.,  7., 10.,  8.,  9.])"
      ]
     },
     "execution_count": 445,
     "metadata": {},
     "output_type": "execute_result"
    }
   ],
   "source": [
    "h['Balcony'].unique()"
   ]
  },
  {
   "cell_type": "code",
   "execution_count": 444,
   "id": "9a16dc00-678f-4b3b-9f54-34dca7f749f5",
   "metadata": {},
   "outputs": [],
   "source": [
    "# Replace '> 10' with 11 and convert to numeric\n",
    "h[\"Balcony\"] = h[\"Balcony\"].replace('> 10', '11')\n",
    "h[\"Balcony\"] = pd.to_numeric(h[\"Balcony\"], errors='coerce')"
   ]
  },
  {
   "cell_type": "code",
   "execution_count": 451,
   "id": "9332c510-1e28-4740-9ea6-9acae5ebd07c",
   "metadata": {},
   "outputs": [],
   "source": [
    "h.to_csv(\"cleaned_House_prices.csv\")"
   ]
  },
  {
   "cell_type": "code",
   "execution_count": null,
   "id": "8306cbfe-33f4-40b7-be8a-2d4abaea19c7",
   "metadata": {},
   "outputs": [],
   "source": []
  },
  {
   "cell_type": "code",
   "execution_count": 448,
   "id": "1413f79b-c5b3-4a2d-abef-097f3b1d85d2",
   "metadata": {},
   "outputs": [
    {
     "data": {
      "text/plain": [
       "Index(['Title', 'Amount(in rupees)', 'Price (in rupees)', 'location', 'Floor',\n",
       "       'Transaction', 'Furnishing', 'facing', 'Bathroom', 'Balcony',\n",
       "       'Carpet Area (sqft)'],\n",
       "      dtype='object')"
      ]
     },
     "execution_count": 448,
     "metadata": {},
     "output_type": "execute_result"
    }
   ],
   "source": [
    "h.columns"
   ]
  },
  {
   "cell_type": "code",
   "execution_count": 450,
   "id": "0b324c82-1c78-42a0-91c9-0090080fd8cf",
   "metadata": {},
   "outputs": [
    {
     "data": {
      "text/plain": [
       "Title                 0\n",
       "Amount(in rupees)     0\n",
       "Price (in rupees)     0\n",
       "location              0\n",
       "Floor                 0\n",
       "Transaction           0\n",
       "Furnishing            0\n",
       "facing                0\n",
       "Bathroom              0\n",
       "Balcony               0\n",
       "Carpet Area (sqft)    0\n",
       "dtype: int64"
      ]
     },
     "execution_count": 450,
     "metadata": {},
     "output_type": "execute_result"
    }
   ],
   "source": [
    "h.isnull().sum()"
   ]
  },
  {
   "cell_type": "code",
   "execution_count": 446,
   "id": "0413a9a8-a6d7-48b2-ad62-a07d992b311b",
   "metadata": {},
   "outputs": [],
   "source": [
    "h.drop(['Carpet Area'],axis=1,inplace=True)"
   ]
  },
  {
   "cell_type": "code",
   "execution_count": 449,
   "id": "55b8b1bd-4dcf-4c79-9d1d-98c1b6543d7b",
   "metadata": {},
   "outputs": [],
   "source": [
    "# 1 fill null values\n",
    "h['Amount(in rupees)'].fillna(h['Amount(in rupees)'].median(), inplace=True)\n",
    "\n",
    "# 2 \n",
    "h['Price (in rupees)'].fillna(h['Price (in rupees)'].median(), inplace=True)\n",
    "\n",
    "#\n",
    "h['Carpet Area (sqft)'].fillna(h['Carpet Area (sqft)'].median(), inplace=True)\n",
    "\n",
    "#\n",
    "h['Floor'].fillna(h['Floor'].median(), inplace=True)\n",
    "\n",
    "# 3 \n",
    "h['Transaction'].fillna(h['Transaction'].mode()[0],inplace=True)\n",
    "\n",
    "# 4\n",
    "h['Furnishing'].fillna(h['Furnishing'].mode()[0],inplace=True)\n",
    "\n",
    "# 5\n",
    "h['facing'].fillna(h['facing'].mode()[0],inplace=True)\n",
    "\n",
    "#6\n",
    "h['Bathroom'].fillna(h['Bathroom'].median(),inplace=True)\n",
    "\n",
    "#7\n",
    "h['Balcony'].fillna(h['Balcony'].median(),inplace=True)"
   ]
  },
  {
   "cell_type": "code",
   "execution_count": null,
   "id": "e327a615-c492-4349-bd54-6fcbace28343",
   "metadata": {},
   "outputs": [],
   "source": []
  }
 ],
 "metadata": {
  "kernelspec": {
   "display_name": "Python 3 (ipykernel)",
   "language": "python",
   "name": "python3"
  },
  "language_info": {
   "codemirror_mode": {
    "name": "ipython",
    "version": 3
   },
   "file_extension": ".py",
   "mimetype": "text/x-python",
   "name": "python",
   "nbconvert_exporter": "python",
   "pygments_lexer": "ipython3",
   "version": "3.11.7"
  }
 },
 "nbformat": 4,
 "nbformat_minor": 5
}
