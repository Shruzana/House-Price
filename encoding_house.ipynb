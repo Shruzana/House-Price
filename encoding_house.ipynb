{
 "cells": [
  {
   "cell_type": "code",
   "execution_count": 26,
   "id": "a57e23a1-6db1-4ca4-9708-628c09a04173",
   "metadata": {},
   "outputs": [],
   "source": [
    "import pandas as pd\n",
    "import numpy as np\n",
    "import matplotlib.pyplot as plot\n"
   ]
  },
  {
   "cell_type": "code",
   "execution_count": 27,
   "id": "2eb3caeb-d415-4e0b-a6f8-ae510607a0b3",
   "metadata": {},
   "outputs": [
    {
     "data": {
      "text/html": [
       "<div>\n",
       "<style scoped>\n",
       "    .dataframe tbody tr th:only-of-type {\n",
       "        vertical-align: middle;\n",
       "    }\n",
       "\n",
       "    .dataframe tbody tr th {\n",
       "        vertical-align: top;\n",
       "    }\n",
       "\n",
       "    .dataframe thead th {\n",
       "        text-align: right;\n",
       "    }\n",
       "</style>\n",
       "<table border=\"1\" class=\"dataframe\">\n",
       "  <thead>\n",
       "    <tr style=\"text-align: right;\">\n",
       "      <th></th>\n",
       "      <th>Unnamed: 0</th>\n",
       "      <th>Title</th>\n",
       "      <th>Amount(in rupees)</th>\n",
       "      <th>Price (in rupees)</th>\n",
       "      <th>location</th>\n",
       "      <th>Floor</th>\n",
       "      <th>Transaction</th>\n",
       "      <th>Furnishing</th>\n",
       "      <th>facing</th>\n",
       "      <th>Bathroom</th>\n",
       "      <th>Balcony</th>\n",
       "      <th>Carpet Area (sqft)</th>\n",
       "    </tr>\n",
       "  </thead>\n",
       "  <tbody>\n",
       "    <tr>\n",
       "      <th>0</th>\n",
       "      <td>0</td>\n",
       "      <td>1.0</td>\n",
       "      <td>4200000.0</td>\n",
       "      <td>6000.0</td>\n",
       "      <td>thane</td>\n",
       "      <td>3.0</td>\n",
       "      <td>Resale</td>\n",
       "      <td>Unfurnished</td>\n",
       "      <td>East</td>\n",
       "      <td>1.0</td>\n",
       "      <td>2.0</td>\n",
       "      <td>500.0</td>\n",
       "    </tr>\n",
       "    <tr>\n",
       "      <th>1</th>\n",
       "      <td>1</td>\n",
       "      <td>2.0</td>\n",
       "      <td>9800000.0</td>\n",
       "      <td>6034.0</td>\n",
       "      <td>thane</td>\n",
       "      <td>3.0</td>\n",
       "      <td>Resale</td>\n",
       "      <td>Semi-Furnished</td>\n",
       "      <td>East</td>\n",
       "      <td>2.0</td>\n",
       "      <td>2.0</td>\n",
       "      <td>473.0</td>\n",
       "    </tr>\n",
       "    <tr>\n",
       "      <th>2</th>\n",
       "      <td>2</td>\n",
       "      <td>2.0</td>\n",
       "      <td>7800000.0</td>\n",
       "      <td>6034.0</td>\n",
       "      <td>thane</td>\n",
       "      <td>3.0</td>\n",
       "      <td>Resale</td>\n",
       "      <td>Unfurnished</td>\n",
       "      <td>East</td>\n",
       "      <td>2.0</td>\n",
       "      <td>2.0</td>\n",
       "      <td>779.0</td>\n",
       "    </tr>\n",
       "    <tr>\n",
       "      <th>3</th>\n",
       "      <td>3</td>\n",
       "      <td>1.0</td>\n",
       "      <td>2500000.0</td>\n",
       "      <td>6034.0</td>\n",
       "      <td>thane</td>\n",
       "      <td>1.0</td>\n",
       "      <td>Resale</td>\n",
       "      <td>Unfurnished</td>\n",
       "      <td>East</td>\n",
       "      <td>1.0</td>\n",
       "      <td>1.0</td>\n",
       "      <td>530.0</td>\n",
       "    </tr>\n",
       "    <tr>\n",
       "      <th>4</th>\n",
       "      <td>4</td>\n",
       "      <td>2.0</td>\n",
       "      <td>7800000.0</td>\n",
       "      <td>6034.0</td>\n",
       "      <td>thane</td>\n",
       "      <td>3.0</td>\n",
       "      <td>Resale</td>\n",
       "      <td>Unfurnished</td>\n",
       "      <td>West</td>\n",
       "      <td>2.0</td>\n",
       "      <td>2.0</td>\n",
       "      <td>635.0</td>\n",
       "    </tr>\n",
       "  </tbody>\n",
       "</table>\n",
       "</div>"
      ],
      "text/plain": [
       "   Unnamed: 0  Title  Amount(in rupees)  Price (in rupees) location  Floor  \\\n",
       "0           0    1.0          4200000.0             6000.0    thane    3.0   \n",
       "1           1    2.0          9800000.0             6034.0    thane    3.0   \n",
       "2           2    2.0          7800000.0             6034.0    thane    3.0   \n",
       "3           3    1.0          2500000.0             6034.0    thane    1.0   \n",
       "4           4    2.0          7800000.0             6034.0    thane    3.0   \n",
       "\n",
       "  Transaction      Furnishing facing  Bathroom  Balcony  Carpet Area (sqft)  \n",
       "0      Resale     Unfurnished   East       1.0      2.0               500.0  \n",
       "1      Resale  Semi-Furnished   East       2.0      2.0               473.0  \n",
       "2      Resale     Unfurnished   East       2.0      2.0               779.0  \n",
       "3      Resale     Unfurnished   East       1.0      1.0               530.0  \n",
       "4      Resale     Unfurnished   West       2.0      2.0               635.0  "
      ]
     },
     "execution_count": 27,
     "metadata": {},
     "output_type": "execute_result"
    }
   ],
   "source": [
    "df = pd.read_csv(\"C://Users/DELL//cleaned_House_prices.csv\")\n",
    "df.head()"
   ]
  },
  {
   "cell_type": "code",
   "execution_count": 28,
   "id": "f6664260-dc30-4a61-b2ed-2571d267c83d",
   "metadata": {},
   "outputs": [
    {
     "data": {
      "text/plain": [
       "Index(['Unnamed: 0', 'Title', 'Amount(in rupees)', 'Price (in rupees)',\n",
       "       'location', 'Floor', 'Transaction', 'Furnishing', 'facing', 'Bathroom',\n",
       "       'Balcony', 'Carpet Area (sqft)'],\n",
       "      dtype='object')"
      ]
     },
     "execution_count": 28,
     "metadata": {},
     "output_type": "execute_result"
    }
   ],
   "source": [
    "df.columns"
   ]
  },
  {
   "cell_type": "code",
   "execution_count": 29,
   "id": "6c60f10f-6719-4ba1-b2af-f4e26642bee3",
   "metadata": {},
   "outputs": [
    {
     "name": "stdout",
     "output_type": "stream",
     "text": [
      "<class 'pandas.core.frame.DataFrame'>\n",
      "RangeIndex: 187531 entries, 0 to 187530\n",
      "Data columns (total 12 columns):\n",
      " #   Column              Non-Null Count   Dtype  \n",
      "---  ------              --------------   -----  \n",
      " 0   Unnamed: 0          187531 non-null  int64  \n",
      " 1   Title               187531 non-null  float64\n",
      " 2   Amount(in rupees)   187531 non-null  float64\n",
      " 3   Price (in rupees)   187531 non-null  float64\n",
      " 4   location            187531 non-null  object \n",
      " 5   Floor               187531 non-null  float64\n",
      " 6   Transaction         187531 non-null  object \n",
      " 7   Furnishing          187531 non-null  object \n",
      " 8   facing              187531 non-null  object \n",
      " 9   Bathroom            187531 non-null  float64\n",
      " 10  Balcony             187531 non-null  float64\n",
      " 11  Carpet Area (sqft)  187531 non-null  float64\n",
      "dtypes: float64(7), int64(1), object(4)\n",
      "memory usage: 17.2+ MB\n"
     ]
    }
   ],
   "source": [
    "df.info()"
   ]
  },
  {
   "cell_type": "code",
   "execution_count": 30,
   "id": "ab09d437-384f-4c58-b966-12ca4b457cc1",
   "metadata": {},
   "outputs": [
    {
     "data": {
      "text/plain": [
       "Unnamed: 0            0\n",
       "Title                 0\n",
       "Amount(in rupees)     0\n",
       "Price (in rupees)     0\n",
       "location              0\n",
       "Floor                 0\n",
       "Transaction           0\n",
       "Furnishing            0\n",
       "facing                0\n",
       "Bathroom              0\n",
       "Balcony               0\n",
       "Carpet Area (sqft)    0\n",
       "dtype: int64"
      ]
     },
     "execution_count": 30,
     "metadata": {},
     "output_type": "execute_result"
    }
   ],
   "source": [
    "df.isnull().sum()"
   ]
  },
  {
   "cell_type": "code",
   "execution_count": 10,
   "id": "8ef8fb4e-8a9d-40b8-bbff-b06fa19b3d0d",
   "metadata": {},
   "outputs": [
    {
     "data": {
      "text/plain": [
       "Index(['Title', 'Amount(in rupees)', 'Price (in rupees)', 'location', 'Floor',\n",
       "       'Transaction', 'Furnishing', 'facing', 'Bathroom', 'Balcony',\n",
       "       'Carpet Area (sqft)'],\n",
       "      dtype='object')"
      ]
     },
     "execution_count": 10,
     "metadata": {},
     "output_type": "execute_result"
    }
   ],
   "source": [
    "df.columns"
   ]
  },
  {
   "cell_type": "code",
   "execution_count": 34,
   "id": "f368e26b-582f-4a0e-a752-c5202a4bf910",
   "metadata": {},
   "outputs": [],
   "source": [
    "x = df[['Title','location', 'Transaction','Floor', 'Furnishing', 'facing', 'Bathroom',\n",
    "       'Balcony']]"
   ]
  },
  {
   "cell_type": "code",
   "execution_count": 35,
   "id": "228026f0-44e0-411b-b348-4a6d6bc72fac",
   "metadata": {},
   "outputs": [],
   "source": [
    "y = df[\"Amount(in rupees)\"]"
   ]
  },
  {
   "cell_type": "code",
   "execution_count": 36,
   "id": "e8cedad3-047b-493c-abf7-889469f51665",
   "metadata": {},
   "outputs": [
    {
     "data": {
      "text/html": [
       "<div>\n",
       "<style scoped>\n",
       "    .dataframe tbody tr th:only-of-type {\n",
       "        vertical-align: middle;\n",
       "    }\n",
       "\n",
       "    .dataframe tbody tr th {\n",
       "        vertical-align: top;\n",
       "    }\n",
       "\n",
       "    .dataframe thead th {\n",
       "        text-align: right;\n",
       "    }\n",
       "</style>\n",
       "<table border=\"1\" class=\"dataframe\">\n",
       "  <thead>\n",
       "    <tr style=\"text-align: right;\">\n",
       "      <th></th>\n",
       "      <th>Title</th>\n",
       "      <th>location</th>\n",
       "      <th>Transaction</th>\n",
       "      <th>Floor</th>\n",
       "      <th>Furnishing</th>\n",
       "      <th>facing</th>\n",
       "      <th>Bathroom</th>\n",
       "      <th>Balcony</th>\n",
       "    </tr>\n",
       "  </thead>\n",
       "  <tbody>\n",
       "    <tr>\n",
       "      <th>0</th>\n",
       "      <td>1.0</td>\n",
       "      <td>thane</td>\n",
       "      <td>Resale</td>\n",
       "      <td>3.0</td>\n",
       "      <td>Unfurnished</td>\n",
       "      <td>East</td>\n",
       "      <td>1.0</td>\n",
       "      <td>2.0</td>\n",
       "    </tr>\n",
       "    <tr>\n",
       "      <th>1</th>\n",
       "      <td>2.0</td>\n",
       "      <td>thane</td>\n",
       "      <td>Resale</td>\n",
       "      <td>3.0</td>\n",
       "      <td>Semi-Furnished</td>\n",
       "      <td>East</td>\n",
       "      <td>2.0</td>\n",
       "      <td>2.0</td>\n",
       "    </tr>\n",
       "    <tr>\n",
       "      <th>2</th>\n",
       "      <td>2.0</td>\n",
       "      <td>thane</td>\n",
       "      <td>Resale</td>\n",
       "      <td>3.0</td>\n",
       "      <td>Unfurnished</td>\n",
       "      <td>East</td>\n",
       "      <td>2.0</td>\n",
       "      <td>2.0</td>\n",
       "    </tr>\n",
       "    <tr>\n",
       "      <th>3</th>\n",
       "      <td>1.0</td>\n",
       "      <td>thane</td>\n",
       "      <td>Resale</td>\n",
       "      <td>1.0</td>\n",
       "      <td>Unfurnished</td>\n",
       "      <td>East</td>\n",
       "      <td>1.0</td>\n",
       "      <td>1.0</td>\n",
       "    </tr>\n",
       "    <tr>\n",
       "      <th>4</th>\n",
       "      <td>2.0</td>\n",
       "      <td>thane</td>\n",
       "      <td>Resale</td>\n",
       "      <td>3.0</td>\n",
       "      <td>Unfurnished</td>\n",
       "      <td>West</td>\n",
       "      <td>2.0</td>\n",
       "      <td>2.0</td>\n",
       "    </tr>\n",
       "  </tbody>\n",
       "</table>\n",
       "</div>"
      ],
      "text/plain": [
       "   Title location Transaction  Floor      Furnishing facing  Bathroom  Balcony\n",
       "0    1.0    thane      Resale    3.0     Unfurnished   East       1.0      2.0\n",
       "1    2.0    thane      Resale    3.0  Semi-Furnished   East       2.0      2.0\n",
       "2    2.0    thane      Resale    3.0     Unfurnished   East       2.0      2.0\n",
       "3    1.0    thane      Resale    1.0     Unfurnished   East       1.0      1.0\n",
       "4    2.0    thane      Resale    3.0     Unfurnished   West       2.0      2.0"
      ]
     },
     "execution_count": 36,
     "metadata": {},
     "output_type": "execute_result"
    }
   ],
   "source": [
    "x.head()"
   ]
  },
  {
   "cell_type": "code",
   "execution_count": 37,
   "id": "2224c699-d611-4ebb-9668-10022d6aeba0",
   "metadata": {},
   "outputs": [
    {
     "data": {
      "text/plain": [
       "array(['Resale', 'New Property', 'Other', 'Rent/Lease'], dtype=object)"
      ]
     },
     "execution_count": 37,
     "metadata": {},
     "output_type": "execute_result"
    }
   ],
   "source": [
    "df['Transaction'].unique()"
   ]
  },
  {
   "cell_type": "code",
   "execution_count": 38,
   "id": "8c94d635-e7f3-47f7-8380-2c0c6b662b8c",
   "metadata": {},
   "outputs": [
    {
     "name": "stdout",
     "output_type": "stream",
     "text": [
      "Title          float64\n",
      "location        object\n",
      "Transaction     object\n",
      "Floor          float64\n",
      "Furnishing      object\n",
      "facing          object\n",
      "Bathroom       float64\n",
      "Balcony        float64\n",
      "dtype: object\n"
     ]
    }
   ],
   "source": [
    "# Check their types\n",
    "print(x.dtypes)"
   ]
  },
  {
   "cell_type": "code",
   "execution_count": 39,
   "id": "ec65c19e-a65d-4604-a17e-c67e4186e4f0",
   "metadata": {},
   "outputs": [],
   "source": [
    "x_cat_cols = x.select_dtypes(include='object')\n",
    "x_num_cols = x.select_dtypes(include='number')"
   ]
  },
  {
   "cell_type": "code",
   "execution_count": 40,
   "id": "45e97520-d098-4924-85bc-8a760eaa8e34",
   "metadata": {},
   "outputs": [
    {
     "data": {
      "text/plain": [
       "(187531, 4)"
      ]
     },
     "execution_count": 40,
     "metadata": {},
     "output_type": "execute_result"
    }
   ],
   "source": [
    "x_cat_cols.shape"
   ]
  },
  {
   "cell_type": "code",
   "execution_count": 41,
   "id": "4ea0c9b1-1497-4fbf-a17e-7a96feabe748",
   "metadata": {},
   "outputs": [
    {
     "data": {
      "text/plain": [
       "(187531, 4)"
      ]
     },
     "execution_count": 41,
     "metadata": {},
     "output_type": "execute_result"
    }
   ],
   "source": [
    "x_num_cols.shape"
   ]
  },
  {
   "cell_type": "code",
   "execution_count": 42,
   "id": "13878e75-8636-47bb-8024-6d7d2f18bfaf",
   "metadata": {},
   "outputs": [
    {
     "data": {
      "text/html": [
       "<div>\n",
       "<style scoped>\n",
       "    .dataframe tbody tr th:only-of-type {\n",
       "        vertical-align: middle;\n",
       "    }\n",
       "\n",
       "    .dataframe tbody tr th {\n",
       "        vertical-align: top;\n",
       "    }\n",
       "\n",
       "    .dataframe thead th {\n",
       "        text-align: right;\n",
       "    }\n",
       "</style>\n",
       "<table border=\"1\" class=\"dataframe\">\n",
       "  <thead>\n",
       "    <tr style=\"text-align: right;\">\n",
       "      <th></th>\n",
       "      <th>location</th>\n",
       "      <th>Transaction</th>\n",
       "      <th>Furnishing</th>\n",
       "      <th>facing</th>\n",
       "    </tr>\n",
       "  </thead>\n",
       "  <tbody>\n",
       "    <tr>\n",
       "      <th>0</th>\n",
       "      <td>thane</td>\n",
       "      <td>Resale</td>\n",
       "      <td>Unfurnished</td>\n",
       "      <td>East</td>\n",
       "    </tr>\n",
       "    <tr>\n",
       "      <th>1</th>\n",
       "      <td>thane</td>\n",
       "      <td>Resale</td>\n",
       "      <td>Semi-Furnished</td>\n",
       "      <td>East</td>\n",
       "    </tr>\n",
       "    <tr>\n",
       "      <th>2</th>\n",
       "      <td>thane</td>\n",
       "      <td>Resale</td>\n",
       "      <td>Unfurnished</td>\n",
       "      <td>East</td>\n",
       "    </tr>\n",
       "    <tr>\n",
       "      <th>3</th>\n",
       "      <td>thane</td>\n",
       "      <td>Resale</td>\n",
       "      <td>Unfurnished</td>\n",
       "      <td>East</td>\n",
       "    </tr>\n",
       "    <tr>\n",
       "      <th>4</th>\n",
       "      <td>thane</td>\n",
       "      <td>Resale</td>\n",
       "      <td>Unfurnished</td>\n",
       "      <td>West</td>\n",
       "    </tr>\n",
       "  </tbody>\n",
       "</table>\n",
       "</div>"
      ],
      "text/plain": [
       "  location Transaction      Furnishing facing\n",
       "0    thane      Resale     Unfurnished   East\n",
       "1    thane      Resale  Semi-Furnished   East\n",
       "2    thane      Resale     Unfurnished   East\n",
       "3    thane      Resale     Unfurnished   East\n",
       "4    thane      Resale     Unfurnished   West"
      ]
     },
     "execution_count": 42,
     "metadata": {},
     "output_type": "execute_result"
    }
   ],
   "source": [
    "x_cat_cols.head()"
   ]
  },
  {
   "cell_type": "code",
   "execution_count": 43,
   "id": "ee0616eb-b291-4894-8968-f3592220ae87",
   "metadata": {},
   "outputs": [
    {
     "data": {
      "text/plain": [
       "array(['thane', 'navi-mumbai', 'nagpur', 'mumbai', 'ahmedabad',\n",
       "       'bangalore', 'chennai', 'gurgaon', 'hyderabad', 'indore', 'jaipur',\n",
       "       'kolkata', 'lucknow', 'new-delhi', 'noida', 'pune', 'agra',\n",
       "       'ahmadnagar', 'allahabad', 'aurangabad', 'badlapur', 'belgaum',\n",
       "       'bhiwadi', 'bhiwandi', 'bhopal', 'bhubaneswar', 'chandigarh',\n",
       "       'coimbatore', 'dehradun', 'durgapur', 'ernakulam', 'faridabad',\n",
       "       'ghaziabad', 'goa', 'greater-noida', 'guntur', 'guwahati',\n",
       "       'gwalior', 'haridwar', 'jabalpur', 'jamshedpur', 'jodhpur',\n",
       "       'kalyan', 'kanpur', 'kochi', 'kozhikode', 'ludhiana', 'madurai',\n",
       "       'mangalore', 'mohali', 'mysore', 'nashik', 'navsari', 'nellore',\n",
       "       'palakkad', 'palghar', 'panchkula', 'patna', 'pondicherry',\n",
       "       'raipur', 'rajahmundry', 'ranchi', 'satara', 'shimla', 'siliguri',\n",
       "       'solapur', 'sonipat', 'surat', 'thrissur', 'tirupati', 'trichy',\n",
       "       'trivandrum', 'udaipur', 'udupi', 'vadodara', 'vapi', 'varanasi',\n",
       "       'vijayawada', 'visakhapatnam', 'vrindavan', 'zirakpur'],\n",
       "      dtype=object)"
      ]
     },
     "execution_count": 43,
     "metadata": {},
     "output_type": "execute_result"
    }
   ],
   "source": [
    "df[\"location\"].unique()"
   ]
  },
  {
   "cell_type": "code",
   "execution_count": 44,
   "id": "697ce835-2ddc-4bd0-a207-e75aa465abfe",
   "metadata": {},
   "outputs": [
    {
     "data": {
      "text/html": [
       "<div>\n",
       "<style scoped>\n",
       "    .dataframe tbody tr th:only-of-type {\n",
       "        vertical-align: middle;\n",
       "    }\n",
       "\n",
       "    .dataframe tbody tr th {\n",
       "        vertical-align: top;\n",
       "    }\n",
       "\n",
       "    .dataframe thead th {\n",
       "        text-align: right;\n",
       "    }\n",
       "</style>\n",
       "<table border=\"1\" class=\"dataframe\">\n",
       "  <thead>\n",
       "    <tr style=\"text-align: right;\">\n",
       "      <th></th>\n",
       "      <th>Unnamed: 0</th>\n",
       "      <th>Title</th>\n",
       "      <th>Amount(in rupees)</th>\n",
       "      <th>Price (in rupees)</th>\n",
       "      <th>Floor</th>\n",
       "      <th>Bathroom</th>\n",
       "      <th>Balcony</th>\n",
       "      <th>Carpet Area (sqft)</th>\n",
       "      <th>location_ahmadnagar</th>\n",
       "      <th>location_ahmedabad</th>\n",
       "      <th>...</th>\n",
       "      <th>Transaction_Resale</th>\n",
       "      <th>Furnishing_Semi-Furnished</th>\n",
       "      <th>Furnishing_Unfurnished</th>\n",
       "      <th>facing_North</th>\n",
       "      <th>facing_North - East</th>\n",
       "      <th>facing_North - West</th>\n",
       "      <th>facing_South</th>\n",
       "      <th>facing_South - East</th>\n",
       "      <th>facing_South -West</th>\n",
       "      <th>facing_West</th>\n",
       "    </tr>\n",
       "  </thead>\n",
       "  <tbody>\n",
       "    <tr>\n",
       "      <th>0</th>\n",
       "      <td>0</td>\n",
       "      <td>1.0</td>\n",
       "      <td>4200000.0</td>\n",
       "      <td>6000.0</td>\n",
       "      <td>3.0</td>\n",
       "      <td>1.0</td>\n",
       "      <td>2.0</td>\n",
       "      <td>500.0</td>\n",
       "      <td>False</td>\n",
       "      <td>False</td>\n",
       "      <td>...</td>\n",
       "      <td>True</td>\n",
       "      <td>False</td>\n",
       "      <td>True</td>\n",
       "      <td>False</td>\n",
       "      <td>False</td>\n",
       "      <td>False</td>\n",
       "      <td>False</td>\n",
       "      <td>False</td>\n",
       "      <td>False</td>\n",
       "      <td>False</td>\n",
       "    </tr>\n",
       "    <tr>\n",
       "      <th>1</th>\n",
       "      <td>1</td>\n",
       "      <td>2.0</td>\n",
       "      <td>9800000.0</td>\n",
       "      <td>6034.0</td>\n",
       "      <td>3.0</td>\n",
       "      <td>2.0</td>\n",
       "      <td>2.0</td>\n",
       "      <td>473.0</td>\n",
       "      <td>False</td>\n",
       "      <td>False</td>\n",
       "      <td>...</td>\n",
       "      <td>True</td>\n",
       "      <td>True</td>\n",
       "      <td>False</td>\n",
       "      <td>False</td>\n",
       "      <td>False</td>\n",
       "      <td>False</td>\n",
       "      <td>False</td>\n",
       "      <td>False</td>\n",
       "      <td>False</td>\n",
       "      <td>False</td>\n",
       "    </tr>\n",
       "    <tr>\n",
       "      <th>2</th>\n",
       "      <td>2</td>\n",
       "      <td>2.0</td>\n",
       "      <td>7800000.0</td>\n",
       "      <td>6034.0</td>\n",
       "      <td>3.0</td>\n",
       "      <td>2.0</td>\n",
       "      <td>2.0</td>\n",
       "      <td>779.0</td>\n",
       "      <td>False</td>\n",
       "      <td>False</td>\n",
       "      <td>...</td>\n",
       "      <td>True</td>\n",
       "      <td>False</td>\n",
       "      <td>True</td>\n",
       "      <td>False</td>\n",
       "      <td>False</td>\n",
       "      <td>False</td>\n",
       "      <td>False</td>\n",
       "      <td>False</td>\n",
       "      <td>False</td>\n",
       "      <td>False</td>\n",
       "    </tr>\n",
       "    <tr>\n",
       "      <th>3</th>\n",
       "      <td>3</td>\n",
       "      <td>1.0</td>\n",
       "      <td>2500000.0</td>\n",
       "      <td>6034.0</td>\n",
       "      <td>1.0</td>\n",
       "      <td>1.0</td>\n",
       "      <td>1.0</td>\n",
       "      <td>530.0</td>\n",
       "      <td>False</td>\n",
       "      <td>False</td>\n",
       "      <td>...</td>\n",
       "      <td>True</td>\n",
       "      <td>False</td>\n",
       "      <td>True</td>\n",
       "      <td>False</td>\n",
       "      <td>False</td>\n",
       "      <td>False</td>\n",
       "      <td>False</td>\n",
       "      <td>False</td>\n",
       "      <td>False</td>\n",
       "      <td>False</td>\n",
       "    </tr>\n",
       "    <tr>\n",
       "      <th>4</th>\n",
       "      <td>4</td>\n",
       "      <td>2.0</td>\n",
       "      <td>7800000.0</td>\n",
       "      <td>6034.0</td>\n",
       "      <td>3.0</td>\n",
       "      <td>2.0</td>\n",
       "      <td>2.0</td>\n",
       "      <td>635.0</td>\n",
       "      <td>False</td>\n",
       "      <td>False</td>\n",
       "      <td>...</td>\n",
       "      <td>True</td>\n",
       "      <td>False</td>\n",
       "      <td>True</td>\n",
       "      <td>False</td>\n",
       "      <td>False</td>\n",
       "      <td>False</td>\n",
       "      <td>False</td>\n",
       "      <td>False</td>\n",
       "      <td>False</td>\n",
       "      <td>True</td>\n",
       "    </tr>\n",
       "  </tbody>\n",
       "</table>\n",
       "<p>5 rows × 100 columns</p>\n",
       "</div>"
      ],
      "text/plain": [
       "   Unnamed: 0  Title  Amount(in rupees)  Price (in rupees)  Floor  Bathroom  \\\n",
       "0           0    1.0          4200000.0             6000.0    3.0       1.0   \n",
       "1           1    2.0          9800000.0             6034.0    3.0       2.0   \n",
       "2           2    2.0          7800000.0             6034.0    3.0       2.0   \n",
       "3           3    1.0          2500000.0             6034.0    1.0       1.0   \n",
       "4           4    2.0          7800000.0             6034.0    3.0       2.0   \n",
       "\n",
       "   Balcony  Carpet Area (sqft)  location_ahmadnagar  location_ahmedabad  ...  \\\n",
       "0      2.0               500.0                False               False  ...   \n",
       "1      2.0               473.0                False               False  ...   \n",
       "2      2.0               779.0                False               False  ...   \n",
       "3      1.0               530.0                False               False  ...   \n",
       "4      2.0               635.0                False               False  ...   \n",
       "\n",
       "   Transaction_Resale  Furnishing_Semi-Furnished  Furnishing_Unfurnished  \\\n",
       "0                True                      False                    True   \n",
       "1                True                       True                   False   \n",
       "2                True                      False                    True   \n",
       "3                True                      False                    True   \n",
       "4                True                      False                    True   \n",
       "\n",
       "   facing_North  facing_North - East  facing_North - West  facing_South  \\\n",
       "0         False                False                False         False   \n",
       "1         False                False                False         False   \n",
       "2         False                False                False         False   \n",
       "3         False                False                False         False   \n",
       "4         False                False                False         False   \n",
       "\n",
       "   facing_South - East  facing_South -West  facing_West  \n",
       "0                False               False        False  \n",
       "1                False               False        False  \n",
       "2                False               False        False  \n",
       "3                False               False        False  \n",
       "4                False               False         True  \n",
       "\n",
       "[5 rows x 100 columns]"
      ]
     },
     "execution_count": 44,
     "metadata": {},
     "output_type": "execute_result"
    }
   ],
   "source": [
    "# drop_first=True is used to avoid the dummy variable trap.\n",
    "x_cat_cols = pd.get_dummies(df, columns=['location', 'Transaction', 'Furnishing', 'facing'], drop_first=True)\n",
    "x_cat_cols.head()"
   ]
  },
  {
   "cell_type": "code",
   "execution_count": 45,
   "id": "f8aaae7d-1467-4308-9427-4e28a25141e1",
   "metadata": {},
   "outputs": [
    {
     "data": {
      "text/html": [
       "<div>\n",
       "<style scoped>\n",
       "    .dataframe tbody tr th:only-of-type {\n",
       "        vertical-align: middle;\n",
       "    }\n",
       "\n",
       "    .dataframe tbody tr th {\n",
       "        vertical-align: top;\n",
       "    }\n",
       "\n",
       "    .dataframe thead th {\n",
       "        text-align: right;\n",
       "    }\n",
       "</style>\n",
       "<table border=\"1\" class=\"dataframe\">\n",
       "  <thead>\n",
       "    <tr style=\"text-align: right;\">\n",
       "      <th></th>\n",
       "      <th>Title</th>\n",
       "      <th>Floor</th>\n",
       "      <th>Bathroom</th>\n",
       "      <th>Balcony</th>\n",
       "    </tr>\n",
       "  </thead>\n",
       "  <tbody>\n",
       "    <tr>\n",
       "      <th>0</th>\n",
       "      <td>1.0</td>\n",
       "      <td>3.0</td>\n",
       "      <td>1.0</td>\n",
       "      <td>2.0</td>\n",
       "    </tr>\n",
       "    <tr>\n",
       "      <th>1</th>\n",
       "      <td>2.0</td>\n",
       "      <td>3.0</td>\n",
       "      <td>2.0</td>\n",
       "      <td>2.0</td>\n",
       "    </tr>\n",
       "    <tr>\n",
       "      <th>2</th>\n",
       "      <td>2.0</td>\n",
       "      <td>3.0</td>\n",
       "      <td>2.0</td>\n",
       "      <td>2.0</td>\n",
       "    </tr>\n",
       "    <tr>\n",
       "      <th>3</th>\n",
       "      <td>1.0</td>\n",
       "      <td>1.0</td>\n",
       "      <td>1.0</td>\n",
       "      <td>1.0</td>\n",
       "    </tr>\n",
       "    <tr>\n",
       "      <th>4</th>\n",
       "      <td>2.0</td>\n",
       "      <td>3.0</td>\n",
       "      <td>2.0</td>\n",
       "      <td>2.0</td>\n",
       "    </tr>\n",
       "  </tbody>\n",
       "</table>\n",
       "</div>"
      ],
      "text/plain": [
       "   Title  Floor  Bathroom  Balcony\n",
       "0    1.0    3.0       1.0      2.0\n",
       "1    2.0    3.0       2.0      2.0\n",
       "2    2.0    3.0       2.0      2.0\n",
       "3    1.0    1.0       1.0      1.0\n",
       "4    2.0    3.0       2.0      2.0"
      ]
     },
     "execution_count": 45,
     "metadata": {},
     "output_type": "execute_result"
    }
   ],
   "source": [
    "x_num_cols.head()"
   ]
  },
  {
   "cell_type": "code",
   "execution_count": 46,
   "id": "b4ac5dbb-00e7-4fbe-9eb0-351d859334de",
   "metadata": {},
   "outputs": [],
   "source": [
    "x = pd.concat([x_cat_cols,x_num_cols],axis=1)"
   ]
  },
  {
   "cell_type": "code",
   "execution_count": 47,
   "id": "27f7c6da-3a07-4f25-ac1d-adb6762a9faf",
   "metadata": {},
   "outputs": [
    {
     "data": {
      "text/html": [
       "<div>\n",
       "<style scoped>\n",
       "    .dataframe tbody tr th:only-of-type {\n",
       "        vertical-align: middle;\n",
       "    }\n",
       "\n",
       "    .dataframe tbody tr th {\n",
       "        vertical-align: top;\n",
       "    }\n",
       "\n",
       "    .dataframe thead th {\n",
       "        text-align: right;\n",
       "    }\n",
       "</style>\n",
       "<table border=\"1\" class=\"dataframe\">\n",
       "  <thead>\n",
       "    <tr style=\"text-align: right;\">\n",
       "      <th></th>\n",
       "      <th>Unnamed: 0</th>\n",
       "      <th>Title</th>\n",
       "      <th>Amount(in rupees)</th>\n",
       "      <th>Price (in rupees)</th>\n",
       "      <th>Floor</th>\n",
       "      <th>Bathroom</th>\n",
       "      <th>Balcony</th>\n",
       "      <th>Carpet Area (sqft)</th>\n",
       "      <th>location_ahmadnagar</th>\n",
       "      <th>location_ahmedabad</th>\n",
       "      <th>...</th>\n",
       "      <th>facing_North - East</th>\n",
       "      <th>facing_North - West</th>\n",
       "      <th>facing_South</th>\n",
       "      <th>facing_South - East</th>\n",
       "      <th>facing_South -West</th>\n",
       "      <th>facing_West</th>\n",
       "      <th>Title</th>\n",
       "      <th>Floor</th>\n",
       "      <th>Bathroom</th>\n",
       "      <th>Balcony</th>\n",
       "    </tr>\n",
       "  </thead>\n",
       "  <tbody>\n",
       "    <tr>\n",
       "      <th>0</th>\n",
       "      <td>0</td>\n",
       "      <td>1.0</td>\n",
       "      <td>4200000.0</td>\n",
       "      <td>6000.0</td>\n",
       "      <td>3.0</td>\n",
       "      <td>1.0</td>\n",
       "      <td>2.0</td>\n",
       "      <td>500.0</td>\n",
       "      <td>False</td>\n",
       "      <td>False</td>\n",
       "      <td>...</td>\n",
       "      <td>False</td>\n",
       "      <td>False</td>\n",
       "      <td>False</td>\n",
       "      <td>False</td>\n",
       "      <td>False</td>\n",
       "      <td>False</td>\n",
       "      <td>1.0</td>\n",
       "      <td>3.0</td>\n",
       "      <td>1.0</td>\n",
       "      <td>2.0</td>\n",
       "    </tr>\n",
       "    <tr>\n",
       "      <th>1</th>\n",
       "      <td>1</td>\n",
       "      <td>2.0</td>\n",
       "      <td>9800000.0</td>\n",
       "      <td>6034.0</td>\n",
       "      <td>3.0</td>\n",
       "      <td>2.0</td>\n",
       "      <td>2.0</td>\n",
       "      <td>473.0</td>\n",
       "      <td>False</td>\n",
       "      <td>False</td>\n",
       "      <td>...</td>\n",
       "      <td>False</td>\n",
       "      <td>False</td>\n",
       "      <td>False</td>\n",
       "      <td>False</td>\n",
       "      <td>False</td>\n",
       "      <td>False</td>\n",
       "      <td>2.0</td>\n",
       "      <td>3.0</td>\n",
       "      <td>2.0</td>\n",
       "      <td>2.0</td>\n",
       "    </tr>\n",
       "    <tr>\n",
       "      <th>2</th>\n",
       "      <td>2</td>\n",
       "      <td>2.0</td>\n",
       "      <td>7800000.0</td>\n",
       "      <td>6034.0</td>\n",
       "      <td>3.0</td>\n",
       "      <td>2.0</td>\n",
       "      <td>2.0</td>\n",
       "      <td>779.0</td>\n",
       "      <td>False</td>\n",
       "      <td>False</td>\n",
       "      <td>...</td>\n",
       "      <td>False</td>\n",
       "      <td>False</td>\n",
       "      <td>False</td>\n",
       "      <td>False</td>\n",
       "      <td>False</td>\n",
       "      <td>False</td>\n",
       "      <td>2.0</td>\n",
       "      <td>3.0</td>\n",
       "      <td>2.0</td>\n",
       "      <td>2.0</td>\n",
       "    </tr>\n",
       "    <tr>\n",
       "      <th>3</th>\n",
       "      <td>3</td>\n",
       "      <td>1.0</td>\n",
       "      <td>2500000.0</td>\n",
       "      <td>6034.0</td>\n",
       "      <td>1.0</td>\n",
       "      <td>1.0</td>\n",
       "      <td>1.0</td>\n",
       "      <td>530.0</td>\n",
       "      <td>False</td>\n",
       "      <td>False</td>\n",
       "      <td>...</td>\n",
       "      <td>False</td>\n",
       "      <td>False</td>\n",
       "      <td>False</td>\n",
       "      <td>False</td>\n",
       "      <td>False</td>\n",
       "      <td>False</td>\n",
       "      <td>1.0</td>\n",
       "      <td>1.0</td>\n",
       "      <td>1.0</td>\n",
       "      <td>1.0</td>\n",
       "    </tr>\n",
       "    <tr>\n",
       "      <th>4</th>\n",
       "      <td>4</td>\n",
       "      <td>2.0</td>\n",
       "      <td>7800000.0</td>\n",
       "      <td>6034.0</td>\n",
       "      <td>3.0</td>\n",
       "      <td>2.0</td>\n",
       "      <td>2.0</td>\n",
       "      <td>635.0</td>\n",
       "      <td>False</td>\n",
       "      <td>False</td>\n",
       "      <td>...</td>\n",
       "      <td>False</td>\n",
       "      <td>False</td>\n",
       "      <td>False</td>\n",
       "      <td>False</td>\n",
       "      <td>False</td>\n",
       "      <td>True</td>\n",
       "      <td>2.0</td>\n",
       "      <td>3.0</td>\n",
       "      <td>2.0</td>\n",
       "      <td>2.0</td>\n",
       "    </tr>\n",
       "    <tr>\n",
       "      <th>5</th>\n",
       "      <td>5</td>\n",
       "      <td>1.0</td>\n",
       "      <td>4500000.0</td>\n",
       "      <td>6618.0</td>\n",
       "      <td>2.0</td>\n",
       "      <td>1.0</td>\n",
       "      <td>1.0</td>\n",
       "      <td>1060.0</td>\n",
       "      <td>False</td>\n",
       "      <td>False</td>\n",
       "      <td>...</td>\n",
       "      <td>False</td>\n",
       "      <td>False</td>\n",
       "      <td>False</td>\n",
       "      <td>False</td>\n",
       "      <td>False</td>\n",
       "      <td>False</td>\n",
       "      <td>1.0</td>\n",
       "      <td>2.0</td>\n",
       "      <td>1.0</td>\n",
       "      <td>1.0</td>\n",
       "    </tr>\n",
       "    <tr>\n",
       "      <th>6</th>\n",
       "      <td>6</td>\n",
       "      <td>1.0</td>\n",
       "      <td>1650000.0</td>\n",
       "      <td>2538.0</td>\n",
       "      <td>4.0</td>\n",
       "      <td>1.0</td>\n",
       "      <td>2.0</td>\n",
       "      <td>550.0</td>\n",
       "      <td>False</td>\n",
       "      <td>False</td>\n",
       "      <td>...</td>\n",
       "      <td>False</td>\n",
       "      <td>False</td>\n",
       "      <td>False</td>\n",
       "      <td>False</td>\n",
       "      <td>False</td>\n",
       "      <td>False</td>\n",
       "      <td>1.0</td>\n",
       "      <td>4.0</td>\n",
       "      <td>1.0</td>\n",
       "      <td>2.0</td>\n",
       "    </tr>\n",
       "    <tr>\n",
       "      <th>7</th>\n",
       "      <td>7</td>\n",
       "      <td>1.0</td>\n",
       "      <td>6000000.0</td>\n",
       "      <td>6034.0</td>\n",
       "      <td>3.0</td>\n",
       "      <td>1.0</td>\n",
       "      <td>2.0</td>\n",
       "      <td>1060.0</td>\n",
       "      <td>False</td>\n",
       "      <td>False</td>\n",
       "      <td>...</td>\n",
       "      <td>False</td>\n",
       "      <td>False</td>\n",
       "      <td>False</td>\n",
       "      <td>False</td>\n",
       "      <td>False</td>\n",
       "      <td>False</td>\n",
       "      <td>1.0</td>\n",
       "      <td>3.0</td>\n",
       "      <td>1.0</td>\n",
       "      <td>2.0</td>\n",
       "    </tr>\n",
       "    <tr>\n",
       "      <th>8</th>\n",
       "      <td>8</td>\n",
       "      <td>1.0</td>\n",
       "      <td>6000000.0</td>\n",
       "      <td>6034.0</td>\n",
       "      <td>3.0</td>\n",
       "      <td>1.0</td>\n",
       "      <td>2.0</td>\n",
       "      <td>1060.0</td>\n",
       "      <td>False</td>\n",
       "      <td>False</td>\n",
       "      <td>...</td>\n",
       "      <td>False</td>\n",
       "      <td>False</td>\n",
       "      <td>False</td>\n",
       "      <td>False</td>\n",
       "      <td>False</td>\n",
       "      <td>False</td>\n",
       "      <td>1.0</td>\n",
       "      <td>3.0</td>\n",
       "      <td>1.0</td>\n",
       "      <td>2.0</td>\n",
       "    </tr>\n",
       "    <tr>\n",
       "      <th>9</th>\n",
       "      <td>9</td>\n",
       "      <td>3.0</td>\n",
       "      <td>7800000.0</td>\n",
       "      <td>6034.0</td>\n",
       "      <td>3.0</td>\n",
       "      <td>3.0</td>\n",
       "      <td>1.0</td>\n",
       "      <td>900.0</td>\n",
       "      <td>False</td>\n",
       "      <td>False</td>\n",
       "      <td>...</td>\n",
       "      <td>False</td>\n",
       "      <td>False</td>\n",
       "      <td>False</td>\n",
       "      <td>False</td>\n",
       "      <td>False</td>\n",
       "      <td>False</td>\n",
       "      <td>3.0</td>\n",
       "      <td>3.0</td>\n",
       "      <td>3.0</td>\n",
       "      <td>1.0</td>\n",
       "    </tr>\n",
       "  </tbody>\n",
       "</table>\n",
       "<p>10 rows × 104 columns</p>\n",
       "</div>"
      ],
      "text/plain": [
       "   Unnamed: 0  Title  Amount(in rupees)  Price (in rupees)  Floor  Bathroom  \\\n",
       "0           0    1.0          4200000.0             6000.0    3.0       1.0   \n",
       "1           1    2.0          9800000.0             6034.0    3.0       2.0   \n",
       "2           2    2.0          7800000.0             6034.0    3.0       2.0   \n",
       "3           3    1.0          2500000.0             6034.0    1.0       1.0   \n",
       "4           4    2.0          7800000.0             6034.0    3.0       2.0   \n",
       "5           5    1.0          4500000.0             6618.0    2.0       1.0   \n",
       "6           6    1.0          1650000.0             2538.0    4.0       1.0   \n",
       "7           7    1.0          6000000.0             6034.0    3.0       1.0   \n",
       "8           8    1.0          6000000.0             6034.0    3.0       1.0   \n",
       "9           9    3.0          7800000.0             6034.0    3.0       3.0   \n",
       "\n",
       "   Balcony  Carpet Area (sqft)  location_ahmadnagar  location_ahmedabad  ...  \\\n",
       "0      2.0               500.0                False               False  ...   \n",
       "1      2.0               473.0                False               False  ...   \n",
       "2      2.0               779.0                False               False  ...   \n",
       "3      1.0               530.0                False               False  ...   \n",
       "4      2.0               635.0                False               False  ...   \n",
       "5      1.0              1060.0                False               False  ...   \n",
       "6      2.0               550.0                False               False  ...   \n",
       "7      2.0              1060.0                False               False  ...   \n",
       "8      2.0              1060.0                False               False  ...   \n",
       "9      1.0               900.0                False               False  ...   \n",
       "\n",
       "   facing_North - East  facing_North - West  facing_South  \\\n",
       "0                False                False         False   \n",
       "1                False                False         False   \n",
       "2                False                False         False   \n",
       "3                False                False         False   \n",
       "4                False                False         False   \n",
       "5                False                False         False   \n",
       "6                False                False         False   \n",
       "7                False                False         False   \n",
       "8                False                False         False   \n",
       "9                False                False         False   \n",
       "\n",
       "   facing_South - East  facing_South -West  facing_West  Title  Floor  \\\n",
       "0                False               False        False    1.0    3.0   \n",
       "1                False               False        False    2.0    3.0   \n",
       "2                False               False        False    2.0    3.0   \n",
       "3                False               False        False    1.0    1.0   \n",
       "4                False               False         True    2.0    3.0   \n",
       "5                False               False        False    1.0    2.0   \n",
       "6                False               False        False    1.0    4.0   \n",
       "7                False               False        False    1.0    3.0   \n",
       "8                False               False        False    1.0    3.0   \n",
       "9                False               False        False    3.0    3.0   \n",
       "\n",
       "   Bathroom  Balcony  \n",
       "0       1.0      2.0  \n",
       "1       2.0      2.0  \n",
       "2       2.0      2.0  \n",
       "3       1.0      1.0  \n",
       "4       2.0      2.0  \n",
       "5       1.0      1.0  \n",
       "6       1.0      2.0  \n",
       "7       1.0      2.0  \n",
       "8       1.0      2.0  \n",
       "9       3.0      1.0  \n",
       "\n",
       "[10 rows x 104 columns]"
      ]
     },
     "execution_count": 47,
     "metadata": {},
     "output_type": "execute_result"
    }
   ],
   "source": [
    "x.head(10)"
   ]
  },
  {
   "cell_type": "code",
   "execution_count": 48,
   "id": "7639763a-6b12-4f0e-8069-6da9011ddbaa",
   "metadata": {},
   "outputs": [],
   "source": [
    "# sklearn -> sci-kit learn -> scientific Kit learn"
   ]
  },
  {
   "cell_type": "code",
   "execution_count": 49,
   "id": "a514d0cd-7801-412e-916a-0397bedb66b5",
   "metadata": {},
   "outputs": [],
   "source": [
    "from sklearn.model_selection import train_test_split #sci-kit learn\n",
    "\n",
    "from sklearn.linear_model import LinearRegression,Ridge,Lasso\n",
    "from sklearn.metrics import mean_squared_error, r2_score"
   ]
  },
  {
   "cell_type": "code",
   "execution_count": 50,
   "id": "ad709361-10fb-446c-957d-912dd9f450e8",
   "metadata": {},
   "outputs": [],
   "source": [
    "x_train,x_test,y_train,y_test = train_test_split(x,y,test_size=0.10, random_state = 8)"
   ]
  },
  {
   "cell_type": "code",
   "execution_count": 51,
   "id": "8d481075-918d-472c-93c4-d75b7b151e54",
   "metadata": {},
   "outputs": [
    {
     "name": "stdout",
     "output_type": "stream",
     "text": [
      "(168777, 104) (18754, 104) (168777,) (18754,)\n"
     ]
    }
   ],
   "source": [
    "print(x_train.shape,x_test.shape,y_train.shape,y_test.shape)"
   ]
  },
  {
   "cell_type": "markdown",
   "id": "2ae41a52-72ae-46e7-b23d-c47eadca3231",
   "metadata": {},
   "source": [
    "### Model Training"
   ]
  },
  {
   "cell_type": "code",
   "execution_count": 52,
   "id": "dcc19d33-f2a5-4385-9ae9-362f59d31303",
   "metadata": {},
   "outputs": [],
   "source": [
    "model = LinearRegression() # model initilization"
   ]
  },
  {
   "cell_type": "code",
   "execution_count": 53,
   "id": "03a4fbb3-3c74-4ee1-bf47-cca9620349e0",
   "metadata": {},
   "outputs": [
    {
     "data": {
      "text/html": [
       "<style>#sk-container-id-1 {color: black;background-color: white;}#sk-container-id-1 pre{padding: 0;}#sk-container-id-1 div.sk-toggleable {background-color: white;}#sk-container-id-1 label.sk-toggleable__label {cursor: pointer;display: block;width: 100%;margin-bottom: 0;padding: 0.3em;box-sizing: border-box;text-align: center;}#sk-container-id-1 label.sk-toggleable__label-arrow:before {content: \"▸\";float: left;margin-right: 0.25em;color: #696969;}#sk-container-id-1 label.sk-toggleable__label-arrow:hover:before {color: black;}#sk-container-id-1 div.sk-estimator:hover label.sk-toggleable__label-arrow:before {color: black;}#sk-container-id-1 div.sk-toggleable__content {max-height: 0;max-width: 0;overflow: hidden;text-align: left;background-color: #f0f8ff;}#sk-container-id-1 div.sk-toggleable__content pre {margin: 0.2em;color: black;border-radius: 0.25em;background-color: #f0f8ff;}#sk-container-id-1 input.sk-toggleable__control:checked~div.sk-toggleable__content {max-height: 200px;max-width: 100%;overflow: auto;}#sk-container-id-1 input.sk-toggleable__control:checked~label.sk-toggleable__label-arrow:before {content: \"▾\";}#sk-container-id-1 div.sk-estimator input.sk-toggleable__control:checked~label.sk-toggleable__label {background-color: #d4ebff;}#sk-container-id-1 div.sk-label input.sk-toggleable__control:checked~label.sk-toggleable__label {background-color: #d4ebff;}#sk-container-id-1 input.sk-hidden--visually {border: 0;clip: rect(1px 1px 1px 1px);clip: rect(1px, 1px, 1px, 1px);height: 1px;margin: -1px;overflow: hidden;padding: 0;position: absolute;width: 1px;}#sk-container-id-1 div.sk-estimator {font-family: monospace;background-color: #f0f8ff;border: 1px dotted black;border-radius: 0.25em;box-sizing: border-box;margin-bottom: 0.5em;}#sk-container-id-1 div.sk-estimator:hover {background-color: #d4ebff;}#sk-container-id-1 div.sk-parallel-item::after {content: \"\";width: 100%;border-bottom: 1px solid gray;flex-grow: 1;}#sk-container-id-1 div.sk-label:hover label.sk-toggleable__label {background-color: #d4ebff;}#sk-container-id-1 div.sk-serial::before {content: \"\";position: absolute;border-left: 1px solid gray;box-sizing: border-box;top: 0;bottom: 0;left: 50%;z-index: 0;}#sk-container-id-1 div.sk-serial {display: flex;flex-direction: column;align-items: center;background-color: white;padding-right: 0.2em;padding-left: 0.2em;position: relative;}#sk-container-id-1 div.sk-item {position: relative;z-index: 1;}#sk-container-id-1 div.sk-parallel {display: flex;align-items: stretch;justify-content: center;background-color: white;position: relative;}#sk-container-id-1 div.sk-item::before, #sk-container-id-1 div.sk-parallel-item::before {content: \"\";position: absolute;border-left: 1px solid gray;box-sizing: border-box;top: 0;bottom: 0;left: 50%;z-index: -1;}#sk-container-id-1 div.sk-parallel-item {display: flex;flex-direction: column;z-index: 1;position: relative;background-color: white;}#sk-container-id-1 div.sk-parallel-item:first-child::after {align-self: flex-end;width: 50%;}#sk-container-id-1 div.sk-parallel-item:last-child::after {align-self: flex-start;width: 50%;}#sk-container-id-1 div.sk-parallel-item:only-child::after {width: 0;}#sk-container-id-1 div.sk-dashed-wrapped {border: 1px dashed gray;margin: 0 0.4em 0.5em 0.4em;box-sizing: border-box;padding-bottom: 0.4em;background-color: white;}#sk-container-id-1 div.sk-label label {font-family: monospace;font-weight: bold;display: inline-block;line-height: 1.2em;}#sk-container-id-1 div.sk-label-container {text-align: center;}#sk-container-id-1 div.sk-container {/* jupyter's `normalize.less` sets `[hidden] { display: none; }` but bootstrap.min.css set `[hidden] { display: none !important; }` so we also need the `!important` here to be able to override the default hidden behavior on the sphinx rendered scikit-learn.org. See: https://github.com/scikit-learn/scikit-learn/issues/21755 */display: inline-block !important;position: relative;}#sk-container-id-1 div.sk-text-repr-fallback {display: none;}</style><div id=\"sk-container-id-1\" class=\"sk-top-container\"><div class=\"sk-text-repr-fallback\"><pre>LinearRegression()</pre><b>In a Jupyter environment, please rerun this cell to show the HTML representation or trust the notebook. <br />On GitHub, the HTML representation is unable to render, please try loading this page with nbviewer.org.</b></div><div class=\"sk-container\" hidden><div class=\"sk-item\"><div class=\"sk-estimator sk-toggleable\"><input class=\"sk-toggleable__control sk-hidden--visually\" id=\"sk-estimator-id-1\" type=\"checkbox\" checked><label for=\"sk-estimator-id-1\" class=\"sk-toggleable__label sk-toggleable__label-arrow\">LinearRegression</label><div class=\"sk-toggleable__content\"><pre>LinearRegression()</pre></div></div></div></div></div>"
      ],
      "text/plain": [
       "LinearRegression()"
      ]
     },
     "execution_count": 53,
     "metadata": {},
     "output_type": "execute_result"
    }
   ],
   "source": [
    "model.fit(x_train,y_train)"
   ]
  },
  {
   "cell_type": "code",
   "execution_count": null,
   "id": "5e4ba2e4-ce54-41e8-aba8-8c3bb941421d",
   "metadata": {},
   "outputs": [],
   "source": []
  },
  {
   "cell_type": "markdown",
   "id": "dba98143-e227-43b7-9b5f-04057a9df7d0",
   "metadata": {},
   "source": [
    "### Model Testing"
   ]
  },
  {
   "cell_type": "code",
   "execution_count": 54,
   "id": "6119bc5a-3ca2-4c14-a2c8-bebe1d2451a9",
   "metadata": {},
   "outputs": [],
   "source": [
    "test_predictions = model.predict(x_test)"
   ]
  },
  {
   "cell_type": "code",
   "execution_count": 55,
   "id": "0776a66e-7136-4e92-aaf6-f48ef962d8a0",
   "metadata": {},
   "outputs": [
    {
     "data": {
      "text/plain": [
       "array([7800000., 7800000., 3700000., ..., 8700000., 9300000., 1900000.])"
      ]
     },
     "execution_count": 55,
     "metadata": {},
     "output_type": "execute_result"
    }
   ],
   "source": [
    "test_predictions"
   ]
  },
  {
   "cell_type": "code",
   "execution_count": 56,
   "id": "a8f5cbc7-9451-47a4-80cd-32f85d05dd67",
   "metadata": {},
   "outputs": [
    {
     "data": {
      "text/plain": [
       "165867    7800000.0\n",
       "54220     7800000.0\n",
       "6515      3700000.0\n",
       "41209     7950000.0\n",
       "21045     8300000.0\n",
       "            ...    \n",
       "164908    4600000.0\n",
       "127329    7800000.0\n",
       "160968    8700000.0\n",
       "10741     9300000.0\n",
       "146736    1900000.0\n",
       "Name: Amount(in rupees), Length: 18754, dtype: float64"
      ]
     },
     "execution_count": 56,
     "metadata": {},
     "output_type": "execute_result"
    }
   ],
   "source": [
    "y_test"
   ]
  },
  {
   "cell_type": "code",
   "execution_count": 57,
   "id": "e0ac5bce-a19d-4917-a3df-87ab5a52cbd7",
   "metadata": {},
   "outputs": [],
   "source": [
    "train_predictions = model.predict(x_train)"
   ]
  },
  {
   "cell_type": "code",
   "execution_count": 69,
   "id": "279b9ed0-d12c-48cf-853d-846e4b0a4caa",
   "metadata": {},
   "outputs": [
    {
     "name": "stdout",
     "output_type": "stream",
     "text": [
      "Test Mean Squared Error:  9.861360455159427e-18\n"
     ]
    }
   ],
   "source": [
    "print(\"Test Mean Squared Error: \",mean_squared_error(y_test,test_predictions))"
   ]
  },
  {
   "cell_type": "code",
   "execution_count": 70,
   "id": "db016b63-6f7b-45f2-bfef-0c9aa7e86b1c",
   "metadata": {},
   "outputs": [
    {
     "data": {
      "text/plain": [
       "9.861360455159427e-18"
      ]
     },
     "execution_count": 70,
     "metadata": {},
     "output_type": "execute_result"
    }
   ],
   "source": [
    "0.000000000000000009861360455159427"
   ]
  },
  {
   "cell_type": "code",
   "execution_count": 73,
   "id": "6fc388f4-6645-4db2-95a5-97bdac67c8cf",
   "metadata": {},
   "outputs": [
    {
     "name": "stdout",
     "output_type": "stream",
     "text": [
      "Train Mean Squared Error:  9.791296949110937e-18\n"
     ]
    }
   ],
   "source": [
    "print(\"Train Mean Squared Error: \",mean_squared_error(y_train,train_predictions))"
   ]
  },
  {
   "cell_type": "code",
   "execution_count": 74,
   "id": "491050d1-5765-4653-8275-2f4abd49b5ed",
   "metadata": {},
   "outputs": [
    {
     "data": {
      "text/plain": [
       "9.791296949110937e-18"
      ]
     },
     "execution_count": 74,
     "metadata": {},
     "output_type": "execute_result"
    }
   ],
   "source": [
    "0.000000000000000009791296949110937"
   ]
  },
  {
   "cell_type": "code",
   "execution_count": 62,
   "id": "765a576d-6efb-4558-9ed2-ea6d2153d49e",
   "metadata": {},
   "outputs": [
    {
     "name": "stdout",
     "output_type": "stream",
     "text": [
      "Test R2 Score:  1.0\n"
     ]
    }
   ],
   "source": [
    "print(\"Test R2 Score: \",r2_score(y_test,test_predictions))"
   ]
  },
  {
   "cell_type": "code",
   "execution_count": 63,
   "id": "0d4e9d69-a772-4230-b27c-31dfa1691562",
   "metadata": {},
   "outputs": [
    {
     "name": "stdout",
     "output_type": "stream",
     "text": [
      "Train R2 Score:  1.0\n"
     ]
    }
   ],
   "source": [
    "print(\"Train R2 Score: \",r2_score(y_train,train_predictions))"
   ]
  },
  {
   "cell_type": "code",
   "execution_count": 64,
   "id": "f91e96d6-384a-446c-bdce-5bbe02ebe155",
   "metadata": {},
   "outputs": [
    {
     "name": "stdout",
     "output_type": "stream",
     "text": [
      "Test R2 Score:  100.0\n"
     ]
    }
   ],
   "source": [
    "print(\"Test R2 Score: \",r2_score(y_test,test_predictions)*100)"
   ]
  },
  {
   "cell_type": "code",
   "execution_count": 65,
   "id": "00e4daff-52d6-4a1b-b795-bc16268be007",
   "metadata": {},
   "outputs": [
    {
     "name": "stdout",
     "output_type": "stream",
     "text": [
      "Train R2 Score:  100.0\n"
     ]
    }
   ],
   "source": [
    "print(\"Train R2 Score: \",r2_score(y_train,train_predictions)*100)"
   ]
  },
  {
   "cell_type": "code",
   "execution_count": 66,
   "id": "12b8a1d5-f434-4af4-8b37-4660a0737fa8",
   "metadata": {},
   "outputs": [
    {
     "data": {
      "text/html": [
       "<div>\n",
       "<style scoped>\n",
       "    .dataframe tbody tr th:only-of-type {\n",
       "        vertical-align: middle;\n",
       "    }\n",
       "\n",
       "    .dataframe tbody tr th {\n",
       "        vertical-align: top;\n",
       "    }\n",
       "\n",
       "    .dataframe thead th {\n",
       "        text-align: right;\n",
       "    }\n",
       "</style>\n",
       "<table border=\"1\" class=\"dataframe\">\n",
       "  <thead>\n",
       "    <tr style=\"text-align: right;\">\n",
       "      <th></th>\n",
       "      <th>Unnamed: 0</th>\n",
       "      <th>Title</th>\n",
       "      <th>Amount(in rupees)</th>\n",
       "      <th>Price (in rupees)</th>\n",
       "      <th>location</th>\n",
       "      <th>Floor</th>\n",
       "      <th>Transaction</th>\n",
       "      <th>Furnishing</th>\n",
       "      <th>facing</th>\n",
       "      <th>Bathroom</th>\n",
       "      <th>Balcony</th>\n",
       "      <th>Carpet Area (sqft)</th>\n",
       "    </tr>\n",
       "  </thead>\n",
       "  <tbody>\n",
       "    <tr>\n",
       "      <th>0</th>\n",
       "      <td>0</td>\n",
       "      <td>1.0</td>\n",
       "      <td>4200000.0</td>\n",
       "      <td>6000.0</td>\n",
       "      <td>thane</td>\n",
       "      <td>3.0</td>\n",
       "      <td>Resale</td>\n",
       "      <td>Unfurnished</td>\n",
       "      <td>East</td>\n",
       "      <td>1.0</td>\n",
       "      <td>2.0</td>\n",
       "      <td>500.0</td>\n",
       "    </tr>\n",
       "    <tr>\n",
       "      <th>1</th>\n",
       "      <td>1</td>\n",
       "      <td>2.0</td>\n",
       "      <td>9800000.0</td>\n",
       "      <td>6034.0</td>\n",
       "      <td>thane</td>\n",
       "      <td>3.0</td>\n",
       "      <td>Resale</td>\n",
       "      <td>Semi-Furnished</td>\n",
       "      <td>East</td>\n",
       "      <td>2.0</td>\n",
       "      <td>2.0</td>\n",
       "      <td>473.0</td>\n",
       "    </tr>\n",
       "    <tr>\n",
       "      <th>2</th>\n",
       "      <td>2</td>\n",
       "      <td>2.0</td>\n",
       "      <td>7800000.0</td>\n",
       "      <td>6034.0</td>\n",
       "      <td>thane</td>\n",
       "      <td>3.0</td>\n",
       "      <td>Resale</td>\n",
       "      <td>Unfurnished</td>\n",
       "      <td>East</td>\n",
       "      <td>2.0</td>\n",
       "      <td>2.0</td>\n",
       "      <td>779.0</td>\n",
       "    </tr>\n",
       "    <tr>\n",
       "      <th>3</th>\n",
       "      <td>3</td>\n",
       "      <td>1.0</td>\n",
       "      <td>2500000.0</td>\n",
       "      <td>6034.0</td>\n",
       "      <td>thane</td>\n",
       "      <td>1.0</td>\n",
       "      <td>Resale</td>\n",
       "      <td>Unfurnished</td>\n",
       "      <td>East</td>\n",
       "      <td>1.0</td>\n",
       "      <td>1.0</td>\n",
       "      <td>530.0</td>\n",
       "    </tr>\n",
       "    <tr>\n",
       "      <th>4</th>\n",
       "      <td>4</td>\n",
       "      <td>2.0</td>\n",
       "      <td>7800000.0</td>\n",
       "      <td>6034.0</td>\n",
       "      <td>thane</td>\n",
       "      <td>3.0</td>\n",
       "      <td>Resale</td>\n",
       "      <td>Unfurnished</td>\n",
       "      <td>West</td>\n",
       "      <td>2.0</td>\n",
       "      <td>2.0</td>\n",
       "      <td>635.0</td>\n",
       "    </tr>\n",
       "    <tr>\n",
       "      <th>...</th>\n",
       "      <td>...</td>\n",
       "      <td>...</td>\n",
       "      <td>...</td>\n",
       "      <td>...</td>\n",
       "      <td>...</td>\n",
       "      <td>...</td>\n",
       "      <td>...</td>\n",
       "      <td>...</td>\n",
       "      <td>...</td>\n",
       "      <td>...</td>\n",
       "      <td>...</td>\n",
       "      <td>...</td>\n",
       "    </tr>\n",
       "    <tr>\n",
       "      <th>187526</th>\n",
       "      <td>187526</td>\n",
       "      <td>3.0</td>\n",
       "      <td>6300000.0</td>\n",
       "      <td>3225.0</td>\n",
       "      <td>zirakpur</td>\n",
       "      <td>2.0</td>\n",
       "      <td>New Property</td>\n",
       "      <td>Semi-Furnished</td>\n",
       "      <td>East</td>\n",
       "      <td>3.0</td>\n",
       "      <td>3.0</td>\n",
       "      <td>1060.0</td>\n",
       "    </tr>\n",
       "    <tr>\n",
       "      <th>187527</th>\n",
       "      <td>187527</td>\n",
       "      <td>3.0</td>\n",
       "      <td>5500000.0</td>\n",
       "      <td>3274.0</td>\n",
       "      <td>zirakpur</td>\n",
       "      <td>4.0</td>\n",
       "      <td>Resale</td>\n",
       "      <td>Unfurnished</td>\n",
       "      <td>North - East</td>\n",
       "      <td>3.0</td>\n",
       "      <td>2.0</td>\n",
       "      <td>1060.0</td>\n",
       "    </tr>\n",
       "    <tr>\n",
       "      <th>187528</th>\n",
       "      <td>187528</td>\n",
       "      <td>3.0</td>\n",
       "      <td>7600000.0</td>\n",
       "      <td>4343.0</td>\n",
       "      <td>zirakpur</td>\n",
       "      <td>1.0</td>\n",
       "      <td>Resale</td>\n",
       "      <td>Furnished</td>\n",
       "      <td>East</td>\n",
       "      <td>3.0</td>\n",
       "      <td>2.0</td>\n",
       "      <td>1250.0</td>\n",
       "    </tr>\n",
       "    <tr>\n",
       "      <th>187529</th>\n",
       "      <td>187529</td>\n",
       "      <td>2.0</td>\n",
       "      <td>3000000.0</td>\n",
       "      <td>4231.0</td>\n",
       "      <td>zirakpur</td>\n",
       "      <td>2.0</td>\n",
       "      <td>Resale</td>\n",
       "      <td>Semi-Furnished</td>\n",
       "      <td>East</td>\n",
       "      <td>2.0</td>\n",
       "      <td>2.0</td>\n",
       "      <td>1060.0</td>\n",
       "    </tr>\n",
       "    <tr>\n",
       "      <th>187530</th>\n",
       "      <td>187530</td>\n",
       "      <td>3.0</td>\n",
       "      <td>11800000.0</td>\n",
       "      <td>6162.0</td>\n",
       "      <td>zirakpur</td>\n",
       "      <td>3.0</td>\n",
       "      <td>Resale</td>\n",
       "      <td>Semi-Furnished</td>\n",
       "      <td>North - East</td>\n",
       "      <td>4.0</td>\n",
       "      <td>4.0</td>\n",
       "      <td>1060.0</td>\n",
       "    </tr>\n",
       "  </tbody>\n",
       "</table>\n",
       "<p>187531 rows × 12 columns</p>\n",
       "</div>"
      ],
      "text/plain": [
       "        Unnamed: 0  Title  Amount(in rupees)  Price (in rupees)  location  \\\n",
       "0                0    1.0          4200000.0             6000.0     thane   \n",
       "1                1    2.0          9800000.0             6034.0     thane   \n",
       "2                2    2.0          7800000.0             6034.0     thane   \n",
       "3                3    1.0          2500000.0             6034.0     thane   \n",
       "4                4    2.0          7800000.0             6034.0     thane   \n",
       "...            ...    ...                ...                ...       ...   \n",
       "187526      187526    3.0          6300000.0             3225.0  zirakpur   \n",
       "187527      187527    3.0          5500000.0             3274.0  zirakpur   \n",
       "187528      187528    3.0          7600000.0             4343.0  zirakpur   \n",
       "187529      187529    2.0          3000000.0             4231.0  zirakpur   \n",
       "187530      187530    3.0         11800000.0             6162.0  zirakpur   \n",
       "\n",
       "        Floor   Transaction      Furnishing        facing  Bathroom  Balcony  \\\n",
       "0         3.0        Resale     Unfurnished          East       1.0      2.0   \n",
       "1         3.0        Resale  Semi-Furnished          East       2.0      2.0   \n",
       "2         3.0        Resale     Unfurnished          East       2.0      2.0   \n",
       "3         1.0        Resale     Unfurnished          East       1.0      1.0   \n",
       "4         3.0        Resale     Unfurnished          West       2.0      2.0   \n",
       "...       ...           ...             ...           ...       ...      ...   \n",
       "187526    2.0  New Property  Semi-Furnished          East       3.0      3.0   \n",
       "187527    4.0        Resale     Unfurnished  North - East       3.0      2.0   \n",
       "187528    1.0        Resale       Furnished          East       3.0      2.0   \n",
       "187529    2.0        Resale  Semi-Furnished          East       2.0      2.0   \n",
       "187530    3.0        Resale  Semi-Furnished  North - East       4.0      4.0   \n",
       "\n",
       "        Carpet Area (sqft)  \n",
       "0                    500.0  \n",
       "1                    473.0  \n",
       "2                    779.0  \n",
       "3                    530.0  \n",
       "4                    635.0  \n",
       "...                    ...  \n",
       "187526              1060.0  \n",
       "187527              1060.0  \n",
       "187528              1250.0  \n",
       "187529              1060.0  \n",
       "187530              1060.0  \n",
       "\n",
       "[187531 rows x 12 columns]"
      ]
     },
     "execution_count": 66,
     "metadata": {},
     "output_type": "execute_result"
    }
   ],
   "source": [
    "df"
   ]
  },
  {
   "cell_type": "code",
   "execution_count": null,
   "id": "f5d8a66c-419f-4d00-a35a-05f4f6d7ce1a",
   "metadata": {},
   "outputs": [],
   "source": []
  }
 ],
 "metadata": {
  "kernelspec": {
   "display_name": "Python 3 (ipykernel)",
   "language": "python",
   "name": "python3"
  },
  "language_info": {
   "codemirror_mode": {
    "name": "ipython",
    "version": 3
   },
   "file_extension": ".py",
   "mimetype": "text/x-python",
   "name": "python",
   "nbconvert_exporter": "python",
   "pygments_lexer": "ipython3",
   "version": "3.11.7"
  }
 },
 "nbformat": 4,
 "nbformat_minor": 5
}
